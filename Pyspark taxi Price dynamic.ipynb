{
 "cells": [
  {
   "cell_type": "markdown",
   "metadata": {
    "application/vnd.databricks.v1+cell": {
     "cellMetadata": {
      "byteLimit": 2048000,
      "rowLimit": 10000
     },
     "inputWidgets": {},
     "nuid": "7601bf0e-75f1-4b25-97f1-54e1d855bd12",
     "showTitle": false,
     "title": ""
    }
   },
   "source": [
    "# [CSC8101] Engineering for AI - 2024 Spark Coursework\n",
    "## Elsun Nabatov"
   ]
  },
  {
   "cell_type": "markdown",
   "metadata": {
    "application/vnd.databricks.v1+cell": {
     "cellMetadata": {
      "byteLimit": 2048000,
      "rowLimit": 10000
     },
     "inputWidgets": {},
     "nuid": "a451fe1b-c36e-4226-a708-a903f5844f7d",
     "showTitle": false,
     "title": ""
    }
   },
   "source": [
    "## Coursework overview\n",
    "\n",
    "### Inputs\n",
    "\n",
    "- **NYC Taxi Trips dataset** - list of recorded taxi trips, each with several characteristics, namely: distance, number of passengers, origin zone, destination zone and trip cost (total amount charged to customer).\n",
    "- **NYC Zones dataset** - list of zones wherein trips can originate/terminate.\n",
    "\n",
    "### Tasks\n",
    "\n",
    "1. Data cleaning\n",
    "  1. Remove \"0 distance\" and 'no passengers' records.\n",
    "  2. Remove outlier records. \n",
    "2. Add new columns\n",
    "  1. Join with zones dataset\n",
    "  2. Compute the unit profitability of each trip\n",
    "3. Zone summarisation and ranking\n",
    "  1. Summarise trip data per zone\n",
    "  2. Obtain the top 10 ranks according to:\n",
    "    1. The total trip volume\n",
    "    2. Their average profitabilitiy\n",
    "    3. The total passenger volume\n",
    "4. Record the total and task-specific execution times for each dataset size and format.\n",
    "\n",
    "### How to\n",
    "\n",
    "###### Code structure and implementation\n",
    "\n",
    "- You must implement your solution to each task in the provided function code skeleton.\n",
    "- The task-specific functions are combined together to form the full pipeline code, executed last (do not modify this code).\n",
    "- Before implementing the specified function skeleton, you should develop and test your solution on separate code cells (create and destroy cells as needed).\n",
    "\n",
    "###### Development\n",
    "\n",
    "- Develop an initial working solution for the 'S' dataset and only then optimise it for larger dataset sizes.\n",
    "- To perform vectorised operations on a DataFrame:\n",
    "  - use the API docs to look for existing vectorised functions in: https://spark.apache.org/docs/latest/api/python/reference/pyspark.sql/functions.html\n",
    "  - actions to get around the lazy execution of spark: \n",
    "  https://spark.apache.org/docs/latest/rdd-programming-guide.html#actions\n",
    "  - if a customised function is required (e.g. to add a new column based on a linear combination of other columns), implement your own User Defined Function (UDF). See:  https://spark.apache.org/docs/latest/sql-ref-functions-udf-scalar.html\n",
    "- Use only the `pyspark.sql` API - documentation link below - (note that searching through the docs returns results from the `pyspark.sql` API together with the `pyspark.pandas` API):\n",
    "  - https://spark.apache.org/docs/3.2.0/api/python/reference/pyspark.sql.html\n",
    "- Periodically download your notebook to your computer as backup and safety measure against accidental file deletion.\n",
    " \n",
    "###### Execution time measurement\n",
    "\n",
    "- Execution time is calculated and returned by the Spark Engine and shown in the output region of the cell.\n",
    "- To measure the execution time of a task you must perform a `collect` or similar operation (e.g. `take`) on the returned DataFrame."
   ]
  },
  {
   "cell_type": "markdown",
   "metadata": {
    "application/vnd.databricks.v1+cell": {
     "cellMetadata": {
      "byteLimit": 2048000,
      "rowLimit": 10000
     },
     "inputWidgets": {},
     "nuid": "d26c1c73-cac4-4937-8201-4c15cc6be296",
     "showTitle": false,
     "title": ""
    }
   },
   "source": [
    "## Task 0 - Read data\n",
    "\n",
    "The code below is ready to run. **Do not modify this code**. It does the following:\n",
    "\n",
    "- Reads the 'zones' dataset into variable 'zone_names'\n",
    "- Defines the `init_trips` function that allows you to read the 'trips' dataset (from the DBFS FileStore) given the dataset size ('S' to 'XXL') and format ('parquet' or 'delta') as function arguments\n",
    "- Defines the `pipeline` function, called in Task 4 to measure the execution time of the entire data processing pipeline\n",
    "- Shows you how to call the `init_trips` function and display dataset characteristics (number of rows, schema)"
   ]
  },
  {
   "cell_type": "code",
   "execution_count": 0,
   "metadata": {
    "application/vnd.databricks.v1+cell": {
     "cellMetadata": {
      "byteLimit": 2048000,
      "rowLimit": 10000
     },
     "inputWidgets": {},
     "nuid": "57aaebcc-fc2a-4d86-a58e-c1489efeadaf",
     "showTitle": false,
     "title": ""
    }
   },
   "outputs": [],
   "source": [
    "## global imports\n",
    "import pyspark.sql as ps\n",
    "import pyspark.sql.functions as pf\n",
    "import pandas as pd\n",
    "\n",
    "# Load zone names dataset - (much faster to read small file from git than dbfs)\n",
    "zones_file_url = 'https://raw.githubusercontent.com/mutazb999/CSC8101-lab-and-coursework/main/02-assignment-spark/taxi_zone_names.csv'\n",
    "zone_names = spark.createDataFrame(pd.read_csv(zones_file_url))\n",
    "\n",
    "# Function to load trips dataset by selected dataset size\n",
    "def init_trips(size = 'S', data_format = \"parquet\", taxi_folder = \"/FileStore/tables/taxi\"):     \n",
    "    \n",
    "    files = {\n",
    "        'S'  : ['2021_07'],\n",
    "        'M'  : ['2021'],\n",
    "        'L'  : ['2020_21'],\n",
    "        'XL' : ['1_6_2019', '7_12_2019'],\n",
    "        'XXL': ['1_6_2019', '7_12_2019', '2020_21']\n",
    "    }\n",
    "    \n",
    "    # validate input dataset size\n",
    "    if size not in files.keys():\n",
    "        print(\"Invalid input dataset size. Must be one of {}\".format(list(files.keys())))\n",
    "        return None               \n",
    "    \n",
    "    if data_format == \"parquet\":\n",
    "        filenames = list(map(lambda s: f'{taxi_folder}/parquet/tripdata_{s}.parquet', files[size]))\n",
    "        trips_df = spark.read.parquet(filenames[0])\n",
    "        \n",
    "        for name in filenames[1:]:\n",
    "            trips_df = trips_df.union(spark.read.parquet(name))\n",
    "            \n",
    "    elif data_format == \"delta\":\n",
    "        filenames = f\"{taxi_folder}/delta/taxi-{size}-delta/\"\n",
    "        trips_df = spark.read.format(\"delta\").load(filenames)\n",
    "    \n",
    "    else:\n",
    "        print(\"Invalid data format. Must be one of {}\".format(['parquet', 'delta']))\n",
    "        return None\n",
    "        \n",
    "    print(\n",
    "    \"\"\"\n",
    "    Trips dataset loaded!\n",
    "    ---\n",
    "      Size: {s}\n",
    "      Format: {f}\n",
    "      Tables loaded: {ds}\n",
    "      Number of trips (dataset rows): {tc:,}\n",
    "    \"\"\".format(s = size, f = data_format, ds = filenames, tc = trips_df.count()))\n",
    "    \n",
    "    return trips_df\n",
    "\n",
    "# helper function to print dataset row count\n",
    "def print_count(df):\n",
    "    print(\"Row count: {t:,}\".format(t = df.count()))\n",
    "\n",
    "def pipeline(trips_df, with_task_12 = False, zones_df = zone_names):\n",
    "    # Do not edit\n",
    "    #---\n",
    "\n",
    "    ## Task 1.1\n",
    "    _trips_11 = t11_remove_zeros(trips_df)\n",
    "\n",
    "    ## Task 1.2\n",
    "    if with_task_12:\n",
    "        _trips_12 = t12_remove_outliers(_trips_11)\n",
    "    else:\n",
    "        _trips_12 = _trips_11\n",
    "\n",
    "    ## Task 2.1\n",
    "    _trips_21 = t21_join_zones(_trips_12, zones_df = zone_names)\n",
    "\n",
    "    ## Task 2.2\n",
    "    _trips_22 = t22_calc_profit(_trips_21)\n",
    "\n",
    "    ## Task 3.1\n",
    "    _graph = t31_summarise_trips(_trips_22)\n",
    "\n",
    "    ## Task 3.2\n",
    "    _zones = t32_summarise_zones_pairs(_graph)\n",
    "\n",
    "    _top10_trips     = t32_top10_trips(_zones)\n",
    "    _top10_profit    = t32_top10_profit(_zones)\n",
    "    _top10_passenger = t32_top10_passenger(_zones)\n",
    "    \n",
    "    return([_top10_trips, _top10_profit, _top10_passenger])"
   ]
  },
  {
   "cell_type": "code",
   "execution_count": 0,
   "metadata": {
    "application/vnd.databricks.v1+cell": {
     "cellMetadata": {
      "byteLimit": 2048000,
      "rowLimit": 10000
     },
     "inputWidgets": {},
     "nuid": "490ab841-fd73-4466-a6e7-5121395deca9",
     "showTitle": false,
     "title": ""
    }
   },
   "outputs": [
    {
     "output_type": "stream",
     "name": "stdout",
     "output_type": "stream",
     "text": [
      "\n    Trips dataset loaded!\n    ---\n      Size: S\n      Format: parquet\n      Tables loaded: ['/FileStore/tables/taxi/parquet/tripdata_2021_07.parquet']\n      Number of trips (dataset rows): 2,898,033\n    \n"
     ]
    }
   ],
   "source": [
    "# CHANGE the value of argument 'size' to record the pipeline execution times for increasing dataset sizes\n",
    "SIZE = 'S'\n",
    "DATA_FORMAT = 'parquet'\n",
    "\n",
    "# Load trips dataset\n",
    "trips = init_trips(SIZE, DATA_FORMAT)"
   ]
  },
  {
   "cell_type": "code",
   "execution_count": 0,
   "metadata": {
    "application/vnd.databricks.v1+cell": {
     "cellMetadata": {
      "byteLimit": 2048000,
      "rowLimit": 10000
     },
     "inputWidgets": {},
     "nuid": "b6e15e98-748e-45ae-99bd-6c338ea1da9c",
     "showTitle": false,
     "title": ""
    }
   },
   "outputs": [
    {
     "output_type": "execute_result",
     "data": {
      "text/plain": [
       "[Row(index=0, VendorID=1.0, tpep_pickup_datetime='2021-07-01 00:08:51', tpep_dropoff_datetime='2021-07-01 00:13:05', passenger_count=1.0, trip_distance=0.8, RatecodeID=1.0, store_and_fwd_flag='N', PULocationID=90, DOLocationID=68, payment_type=1.0, fare_amount=5.0, extra=3.0, mta_tax=0.5, tip_amount=0.0, tolls_amount=0.0, improvement_surcharge=0.3, total_amount=8.8, congestion_surcharge=2.5, cab_type='Y', lpep_pickup_datetime=None, lpep_dropoff_datetime=None, ehail_fee=None, trip_type=None)]"
      ]
     },
     "execution_count": 71,
     "metadata": {},
     "output_type": "execute_result"
    }
   ],
   "source": [
    "trips.take(1)"
   ]
  },
  {
   "cell_type": "code",
   "execution_count": 0,
   "metadata": {
    "application/vnd.databricks.v1+cell": {
     "cellMetadata": {
      "byteLimit": 2048000,
      "rowLimit": 10000
     },
     "inputWidgets": {},
     "nuid": "92da0d12-33a0-4df0-b1d2-607ebb65d948",
     "showTitle": false,
     "title": ""
    }
   },
   "outputs": [
    {
     "output_type": "stream",
     "name": "stdout",
     "output_type": "stream",
     "text": [
      "Row count: 2,898,033\n"
     ]
    }
   ],
   "source": [
    "print_count(trips)"
   ]
  },
  {
   "cell_type": "code",
   "execution_count": 0,
   "metadata": {
    "application/vnd.databricks.v1+cell": {
     "cellMetadata": {
      "byteLimit": 2048000,
      "rowLimit": 10000
     },
     "inputWidgets": {},
     "nuid": "490e67f7-4457-4bd5-b89a-a6d24c5645d5",
     "showTitle": false,
     "title": ""
    }
   },
   "outputs": [
    {
     "output_type": "stream",
     "name": "stdout",
     "output_type": "stream",
     "text": [
      "root\n |-- index: long (nullable = true)\n |-- VendorID: double (nullable = true)\n |-- tpep_pickup_datetime: string (nullable = true)\n |-- tpep_dropoff_datetime: string (nullable = true)\n |-- passenger_count: double (nullable = true)\n |-- trip_distance: double (nullable = true)\n |-- RatecodeID: double (nullable = true)\n |-- store_and_fwd_flag: string (nullable = true)\n |-- PULocationID: long (nullable = true)\n |-- DOLocationID: long (nullable = true)\n |-- payment_type: double (nullable = true)\n |-- fare_amount: double (nullable = true)\n |-- extra: double (nullable = true)\n |-- mta_tax: double (nullable = true)\n |-- tip_amount: double (nullable = true)\n |-- tolls_amount: double (nullable = true)\n |-- improvement_surcharge: double (nullable = true)\n |-- total_amount: double (nullable = true)\n |-- congestion_surcharge: double (nullable = true)\n |-- cab_type: string (nullable = true)\n |-- lpep_pickup_datetime: string (nullable = true)\n |-- lpep_dropoff_datetime: string (nullable = true)\n |-- ehail_fee: double (nullable = true)\n |-- trip_type: double (nullable = true)\n\n"
     ]
    }
   ],
   "source": [
    "# dataset schemas\n",
    "trips.printSchema()"
   ]
  },
  {
   "cell_type": "code",
   "execution_count": 0,
   "metadata": {
    "application/vnd.databricks.v1+cell": {
     "cellMetadata": {
      "byteLimit": 2048000,
      "rowLimit": 10000
     },
     "inputWidgets": {},
     "nuid": "5e2ab160-b9b8-4c4a-bb70-fc3197bae230",
     "showTitle": false,
     "title": ""
    }
   },
   "outputs": [
    {
     "output_type": "display_data",
     "data": {
      "text/html": [
       "<style scoped>\n",
       "  .table-result-container {\n",
       "    max-height: 300px;\n",
       "    overflow: auto;\n",
       "  }\n",
       "  table, th, td {\n",
       "    border: 1px solid black;\n",
       "    border-collapse: collapse;\n",
       "  }\n",
       "  th, td {\n",
       "    padding: 5px;\n",
       "  }\n",
       "  th {\n",
       "    text-align: left;\n",
       "  }\n",
       "</style><div class='table-result-container'><table class='table-result'><thead style='background-color: white'><tr><th>PULocationID</th><th>DOLocationID</th><th>trip_distance</th><th>passenger_count</th><th>total_amount</th></tr></thead><tbody><tr><td>90</td><td>68</td><td>0.8</td><td>1.0</td><td>8.8</td></tr><tr><td>113</td><td>90</td><td>0.9</td><td>1.0</td><td>8.8</td></tr><tr><td>88</td><td>232</td><td>2.8</td><td>1.0</td><td>13.8</td></tr><tr><td>79</td><td>249</td><td>1.4</td><td>1.0</td><td>12.3</td></tr><tr><td>142</td><td>238</td><td>2.0</td><td>0.0</td><td>12.3</td></tr></tbody></table></div>"
      ]
     },
     "metadata": {
      "application/vnd.databricks.v1+output": {
       "addedWidgets": {},
       "aggData": [],
       "aggError": "",
       "aggOverflow": false,
       "aggSchema": [],
       "aggSeriesLimitReached": false,
       "aggType": "",
       "arguments": {},
       "columnCustomDisplayInfos": {},
       "data": [
        [
         90,
         68,
         0.8,
         1.0,
         8.8
        ],
        [
         113,
         90,
         0.9,
         1.0,
         8.8
        ],
        [
         88,
         232,
         2.8,
         1.0,
         13.8
        ],
        [
         79,
         249,
         1.4,
         1.0,
         12.3
        ],
        [
         142,
         238,
         2.0,
         0.0,
         12.3
        ]
       ],
       "datasetInfos": [],
       "dbfsResultPath": null,
       "isJsonSchema": true,
       "metadata": {},
       "overflow": false,
       "plotOptions": {
        "customPlotOptions": {},
        "displayType": "table",
        "pivotAggregation": null,
        "pivotColumns": null,
        "xColumns": null,
        "yColumns": null
       },
       "removedWidgets": [],
       "schema": [
        {
         "metadata": "{}",
         "name": "PULocationID",
         "type": "\"long\""
        },
        {
         "metadata": "{}",
         "name": "DOLocationID",
         "type": "\"long\""
        },
        {
         "metadata": "{}",
         "name": "trip_distance",
         "type": "\"double\""
        },
        {
         "metadata": "{}",
         "name": "passenger_count",
         "type": "\"double\""
        },
        {
         "metadata": "{}",
         "name": "total_amount",
         "type": "\"double\""
        }
       ],
       "type": "table"
      }
     },
     "output_type": "display_data"
    }
   ],
   "source": [
    "display(trips[['PULocationID', 'DOLocationID', 'trip_distance', 'passenger_count', 'total_amount']].take(5))"
   ]
  },
  {
   "cell_type": "code",
   "execution_count": 0,
   "metadata": {
    "application/vnd.databricks.v1+cell": {
     "cellMetadata": {
      "byteLimit": 2048000,
      "rowLimit": 10000
     },
     "inputWidgets": {},
     "nuid": "eee4451c-b49a-42a6-b87e-81aad4144cf1",
     "showTitle": false,
     "title": ""
    }
   },
   "outputs": [
    {
     "output_type": "stream",
     "name": "stdout",
     "output_type": "stream",
     "text": [
      "root\n |-- LocationID: long (nullable = true)\n |-- Borough: string (nullable = true)\n |-- Zone: string (nullable = true)\n |-- service_zone: string (nullable = true)\n\n"
     ]
    }
   ],
   "source": [
    "zone_names.printSchema()"
   ]
  },
  {
   "cell_type": "code",
   "execution_count": 0,
   "metadata": {
    "application/vnd.databricks.v1+cell": {
     "cellMetadata": {
      "byteLimit": 2048000,
      "rowLimit": 10000
     },
     "inputWidgets": {},
     "nuid": "8a1ed0a0-0621-471d-8332-d47b52f71817",
     "showTitle": false,
     "title": ""
    }
   },
   "outputs": [
    {
     "output_type": "display_data",
     "data": {
      "text/html": [
       "<style scoped>\n",
       "  .table-result-container {\n",
       "    max-height: 300px;\n",
       "    overflow: auto;\n",
       "  }\n",
       "  table, th, td {\n",
       "    border: 1px solid black;\n",
       "    border-collapse: collapse;\n",
       "  }\n",
       "  th, td {\n",
       "    padding: 5px;\n",
       "  }\n",
       "  th {\n",
       "    text-align: left;\n",
       "  }\n",
       "</style><div class='table-result-container'><table class='table-result'><thead style='background-color: white'><tr><th>LocationID</th><th>Borough</th><th>Zone</th><th>service_zone</th></tr></thead><tbody><tr><td>1</td><td>EWR</td><td>Newark Airport</td><td>EWR</td></tr><tr><td>2</td><td>Queens</td><td>Jamaica Bay</td><td>Boro Zone</td></tr><tr><td>3</td><td>Bronx</td><td>Allerton/Pelham Gardens</td><td>Boro Zone</td></tr><tr><td>4</td><td>Manhattan</td><td>Alphabet City</td><td>Yellow Zone</td></tr><tr><td>5</td><td>Staten Island</td><td>Arden Heights</td><td>Boro Zone</td></tr></tbody></table></div>"
      ]
     },
     "metadata": {
      "application/vnd.databricks.v1+output": {
       "addedWidgets": {},
       "aggData": [],
       "aggError": "",
       "aggOverflow": false,
       "aggSchema": [],
       "aggSeriesLimitReached": false,
       "aggType": "",
       "arguments": {},
       "columnCustomDisplayInfos": {},
       "data": [
        [
         1,
         "EWR",
         "Newark Airport",
         "EWR"
        ],
        [
         2,
         "Queens",
         "Jamaica Bay",
         "Boro Zone"
        ],
        [
         3,
         "Bronx",
         "Allerton/Pelham Gardens",
         "Boro Zone"
        ],
        [
         4,
         "Manhattan",
         "Alphabet City",
         "Yellow Zone"
        ],
        [
         5,
         "Staten Island",
         "Arden Heights",
         "Boro Zone"
        ]
       ],
       "datasetInfos": [],
       "dbfsResultPath": null,
       "isJsonSchema": true,
       "metadata": {},
       "overflow": false,
       "plotOptions": {
        "customPlotOptions": {},
        "displayType": "table",
        "pivotAggregation": null,
        "pivotColumns": null,
        "xColumns": null,
        "yColumns": null
       },
       "removedWidgets": [],
       "schema": [
        {
         "metadata": "{}",
         "name": "LocationID",
         "type": "\"long\""
        },
        {
         "metadata": "{}",
         "name": "Borough",
         "type": "\"string\""
        },
        {
         "metadata": "{}",
         "name": "Zone",
         "type": "\"string\""
        },
        {
         "metadata": "{}",
         "name": "service_zone",
         "type": "\"string\""
        }
       ],
       "type": "table"
      }
     },
     "output_type": "display_data"
    }
   ],
   "source": [
    "display(zone_names.take(5))"
   ]
  },
  {
   "cell_type": "markdown",
   "metadata": {
    "application/vnd.databricks.v1+cell": {
     "cellMetadata": {
      "byteLimit": 2048000,
      "rowLimit": 10000
     },
     "inputWidgets": {},
     "nuid": "fb2823c8-f4b3-4631-8d2c-60b0b91c0df2",
     "showTitle": false,
     "title": ""
    }
   },
   "source": [
    "## Task 1 - Filter rows\n",
    "\n",
    "**Input:** trips dataset\n",
    "\n",
    "### Task 1.1 - Remove \"0 distance\" and 'no passengers' records\n",
    "\n",
    "Remove dataset rows that represent invalid trips:\n",
    "\n",
    "- Trips where `trip_distance == 0` (no distance travelled)\n",
    "- Trips where `passenger_count == 0` and `total_amount == 0` (we want to retain records where `total_amount` > 0 - these may be significant as the taxi may have carried some parcel, for example)\n",
    "\n",
    "Altogether, a record is removed if it satisfies the following conditions:\n",
    "\n",
    "`trip_distance == 0` or `(passenger_count == 0` and `total_amount == 0)`.\n",
    "\n",
    "**Recommended:** Select only the relevant dataset columns for this and subsequent tasks: `['PULocationID', 'DOLocationID', 'trip_distance', 'passenger_count', 'total_amount')]`\n",
    "\n",
    "### Task 1.2 - Remove outliers using the modified z-score\n",
    "\n",
    "Despite having removed spurious \"zero passengers\" trips in task 1.1, columns `total_amount` and `trip_distance` contain additional outlier values that must be identified and removed.\n",
    "\n",
    "To identify and remove outliers, you will use the modified [z-score](https://en.wikipedia.org/wiki/Standard_score) method.\n",
    "The modified z-score uses the median and [Median Absolute Deviation](https://en.wikipedia.org/wiki/Median_absolute_deviation) (MAD), instead of the mean and standard deviation, to determine how far an observation (indexed by i) is from the mean:\n",
    "\n",
    "$$z_i = \\frac{x_i - \\mathit{median}(\\mathbf{x})}{\\mathbf{MAD}},$$\n",
    "\n",
    "where x represents the input vector, xi is an element of x and zi is its corresponding z-score. In turn, the MAD formula is:\n",
    "\n",
    "$$\\mathbf{MAD} = 1.483 * \\mathit{median}(\\big\\lvert x_i - \\mathit{median}(\\mathbf{x})\\big\\rvert).$$\n",
    "\n",
    "Observations with **high** (absolute) z-score are considered outlier observations. A score is considered **high** if its __absolute z-score__ is larger than a threshold T = 3.5:\n",
    "\n",
    "$$\\big\\lvert z_i \\big\\rvert > 3.5.$$\n",
    "\n",
    "where T represents the number of unit standard deviations beyond which a score is considered an outlier ([wiki](https://en.wikipedia.org/wiki/68%E2%80%9395%E2%80%9399.7_rule)).\n",
    "\n",
    "This process is repeated twice, once for each of the columns `total_amount` and `trip_distance` (in any order).\n",
    "\n",
    "**Important:** Use the surrogate function [`percentile_approx`](https://spark.apache.org/docs/3.2.0/api/python/reference/api/pyspark.sql.functions.percentile_approx.html?highlight=percentile#pyspark.sql.functions.percentile_approx) to estimate the median (calculating the median values for a column is expensive as it cannot be parallelised efficiently)."
   ]
  },
  {
   "cell_type": "code",
   "execution_count": 0,
   "metadata": {
    "application/vnd.databricks.v1+cell": {
     "cellMetadata": {
      "byteLimit": 2048000,
      "rowLimit": 10000
     },
     "inputWidgets": {},
     "nuid": "b53021ef-a0ab-43be-8885-142617707a5c",
     "showTitle": false,
     "title": ""
    }
   },
   "outputs": [],
   "source": [
    "from pyspark.sql.functions import col\n",
    "\n",
    "# Task 1.1: Remove \"0 distance\" and 'no passengers' records implementation\n",
    "def t11_remove_zeros(df):\n",
    "    # Selecting only the relevant columns first to optimize processing\n",
    "    df = df.select('PULocationID', 'DOLocationID', 'trip_distance', 'passenger_count', 'total_amount')\n",
    "    \n",
    "    # Filter out rows based on the specified conditions\n",
    "    filtered_df = df.filter(\n",
    "        (df.trip_distance != 0) & ~((df.passenger_count == 0) & (df.total_amount == 0))\n",
    "    )\n",
    "    return filtered_df"
   ]
  },
  {
   "cell_type": "code",
   "execution_count": 0,
   "metadata": {
    "application/vnd.databricks.v1+cell": {
     "cellMetadata": {
      "byteLimit": 2048000,
      "rowLimit": 10000
     },
     "inputWidgets": {},
     "nuid": "3c6c287d-8707-4989-8ee9-2967a486c925",
     "showTitle": false,
     "title": ""
    }
   },
   "outputs": [
    {
     "output_type": "stream",
     "name": "stdout",
     "output_type": "stream",
     "text": [
      "Row count: 2,858,164\n"
     ]
    }
   ],
   "source": [
    "# execute task 1.1\n",
    "trips_11 = t11_remove_zeros(trips)\n",
    "\n",
    "print_count(trips_11)"
   ]
  },
  {
   "cell_type": "code",
   "execution_count": 0,
   "metadata": {
    "application/vnd.databricks.v1+cell": {
     "cellMetadata": {
      "byteLimit": 2048000,
      "rowLimit": 10000
     },
     "inputWidgets": {},
     "nuid": "16552fd4-a97e-4685-8116-9ac3a04a1a88",
     "showTitle": false,
     "title": ""
    }
   },
   "outputs": [
    {
     "output_type": "display_data",
     "data": {
      "text/html": [
       "<style scoped>\n",
       "  .table-result-container {\n",
       "    max-height: 300px;\n",
       "    overflow: auto;\n",
       "  }\n",
       "  table, th, td {\n",
       "    border: 1px solid black;\n",
       "    border-collapse: collapse;\n",
       "  }\n",
       "  th, td {\n",
       "    padding: 5px;\n",
       "  }\n",
       "  th {\n",
       "    text-align: left;\n",
       "  }\n",
       "</style><div class='table-result-container'><table class='table-result'><thead style='background-color: white'><tr><th>PULocationID</th><th>DOLocationID</th><th>trip_distance</th><th>passenger_count</th><th>total_amount</th></tr></thead><tbody><tr><td>90</td><td>68</td><td>0.8</td><td>1.0</td><td>8.8</td></tr><tr><td>113</td><td>90</td><td>0.9</td><td>1.0</td><td>8.8</td></tr><tr><td>88</td><td>232</td><td>2.8</td><td>1.0</td><td>13.8</td></tr><tr><td>79</td><td>249</td><td>1.4</td><td>1.0</td><td>12.3</td></tr><tr><td>142</td><td>238</td><td>2.0</td><td>0.0</td><td>12.3</td></tr><tr><td>114</td><td>90</td><td>1.6</td><td>1.0</td><td>12.8</td></tr><tr><td>90</td><td>144</td><td>1.8</td><td>1.0</td><td>13.3</td></tr><tr><td>114</td><td>48</td><td>2.0</td><td>1.0</td><td>14.75</td></tr><tr><td>48</td><td>152</td><td>5.7</td><td>1.0</td><td>22.3</td></tr><tr><td>234</td><td>148</td><td>1.8</td><td>1.0</td><td>14.75</td></tr></tbody></table></div>"
      ]
     },
     "metadata": {
      "application/vnd.databricks.v1+output": {
       "addedWidgets": {},
       "aggData": [],
       "aggError": "",
       "aggOverflow": false,
       "aggSchema": [],
       "aggSeriesLimitReached": false,
       "aggType": "",
       "arguments": {},
       "columnCustomDisplayInfos": {},
       "data": [
        [
         90,
         68,
         0.8,
         1.0,
         8.8
        ],
        [
         113,
         90,
         0.9,
         1.0,
         8.8
        ],
        [
         88,
         232,
         2.8,
         1.0,
         13.8
        ],
        [
         79,
         249,
         1.4,
         1.0,
         12.3
        ],
        [
         142,
         238,
         2.0,
         0.0,
         12.3
        ],
        [
         114,
         90,
         1.6,
         1.0,
         12.8
        ],
        [
         90,
         144,
         1.8,
         1.0,
         13.3
        ],
        [
         114,
         48,
         2.0,
         1.0,
         14.75
        ],
        [
         48,
         152,
         5.7,
         1.0,
         22.3
        ],
        [
         234,
         148,
         1.8,
         1.0,
         14.75
        ]
       ],
       "datasetInfos": [],
       "dbfsResultPath": null,
       "isJsonSchema": true,
       "metadata": {},
       "overflow": false,
       "plotOptions": {
        "customPlotOptions": {},
        "displayType": "table",
        "pivotAggregation": null,
        "pivotColumns": null,
        "xColumns": null,
        "yColumns": null
       },
       "removedWidgets": [],
       "schema": [
        {
         "metadata": "{}",
         "name": "PULocationID",
         "type": "\"long\""
        },
        {
         "metadata": "{}",
         "name": "DOLocationID",
         "type": "\"long\""
        },
        {
         "metadata": "{}",
         "name": "trip_distance",
         "type": "\"double\""
        },
        {
         "metadata": "{}",
         "name": "passenger_count",
         "type": "\"double\""
        },
        {
         "metadata": "{}",
         "name": "total_amount",
         "type": "\"double\""
        }
       ],
       "type": "table"
      }
     },
     "output_type": "display_data"
    }
   ],
   "source": [
    "# Task 1.1 showing table where there is no \"0\" in passenger, total amount and trip distance columns\n",
    "display(trips_11.take(10))"
   ]
  },
  {
   "cell_type": "code",
   "execution_count": 0,
   "metadata": {
    "application/vnd.databricks.v1+cell": {
     "cellMetadata": {
      "byteLimit": 2048000,
      "rowLimit": 10000
     },
     "inputWidgets": {},
     "nuid": "c0162cd3-d060-495d-9a86-ebf4a6f507ac",
     "showTitle": false,
     "title": ""
    }
   },
   "outputs": [],
   "source": [
    "from pyspark.sql.functions import col, lit, abs as abs_col\n",
    "\n",
    "def calculate_mad(df, column):\n",
    "    median = df.approxQuantile(column, [0.5], 0.01)[0]\n",
    "    # Using abs_col for the absolute value\n",
    "    mad_df = df.withColumn(\"deviation\", abs_col(col(column) - lit(median)))\n",
    "    mad = 1.483 * mad_df.approxQuantile(\"deviation\", [0.5], 0.01)[0]\n",
    "    return median, mad\n",
    "\n",
    "def filter_outliers(df, column):\n",
    "    median, mad = calculate_mad(df, column)\n",
    "    # Using abs_col for the absolute value in the z-score calculation\n",
    "    condition = (abs_col(col(column) - lit(median)) / lit(mad)) <= 3.5\n",
    "    return df.filter(condition)\n",
    "\n",
    "def t12_remove_outliers(df):\n",
    "    # Sequentially applying the filter for outliers on both columns\n",
    "    df_no_outliers = filter_outliers(df, \"total_amount\")\n",
    "    df_no_outliers = filter_outliers(df_no_outliers, \"trip_distance\")\n",
    "    return df_no_outliers"
   ]
  },
  {
   "cell_type": "code",
   "execution_count": 0,
   "metadata": {
    "application/vnd.databricks.v1+cell": {
     "cellMetadata": {
      "byteLimit": 2048000,
      "rowLimit": 10000
     },
     "inputWidgets": {},
     "nuid": "96533a0e-242b-42d6-bc10-3b1ea3a13681",
     "showTitle": false,
     "title": ""
    }
   },
   "outputs": [
    {
     "output_type": "stream",
     "name": "stdout",
     "output_type": "stream",
     "text": [
      "Row count: 2,435,246\n"
     ]
    }
   ],
   "source": [
    "# execute task 1.2\n",
    "trips_12 = t12_remove_outliers(trips_11)\n",
    "print_count(trips_12)"
   ]
  },
  {
   "cell_type": "code",
   "execution_count": 0,
   "metadata": {
    "application/vnd.databricks.v1+cell": {
     "cellMetadata": {
      "byteLimit": 2048000,
      "rowLimit": 10000
     },
     "inputWidgets": {},
     "nuid": "b5e15477-cb8c-490e-8c78-69d5071d131b",
     "showTitle": false,
     "title": ""
    }
   },
   "outputs": [
    {
     "output_type": "display_data",
     "data": {
      "text/html": [
       "<style scoped>\n",
       "  .table-result-container {\n",
       "    max-height: 300px;\n",
       "    overflow: auto;\n",
       "  }\n",
       "  table, th, td {\n",
       "    border: 1px solid black;\n",
       "    border-collapse: collapse;\n",
       "  }\n",
       "  th, td {\n",
       "    padding: 5px;\n",
       "  }\n",
       "  th {\n",
       "    text-align: left;\n",
       "  }\n",
       "</style><div class='table-result-container'><table class='table-result'><thead style='background-color: white'><tr><th>PULocationID</th><th>DOLocationID</th><th>trip_distance</th><th>passenger_count</th><th>total_amount</th></tr></thead><tbody><tr><td>90</td><td>68</td><td>0.8</td><td>1.0</td><td>8.8</td></tr><tr><td>113</td><td>90</td><td>0.9</td><td>1.0</td><td>8.8</td></tr><tr><td>88</td><td>232</td><td>2.8</td><td>1.0</td><td>13.8</td></tr><tr><td>79</td><td>249</td><td>1.4</td><td>1.0</td><td>12.3</td></tr><tr><td>142</td><td>238</td><td>2.0</td><td>0.0</td><td>12.3</td></tr><tr><td>114</td><td>90</td><td>1.6</td><td>1.0</td><td>12.8</td></tr><tr><td>90</td><td>144</td><td>1.8</td><td>1.0</td><td>13.3</td></tr><tr><td>114</td><td>48</td><td>2.0</td><td>1.0</td><td>14.75</td></tr><tr><td>48</td><td>152</td><td>5.7</td><td>1.0</td><td>22.3</td></tr><tr><td>234</td><td>148</td><td>1.8</td><td>1.0</td><td>14.75</td></tr></tbody></table></div>"
      ]
     },
     "metadata": {
      "application/vnd.databricks.v1+output": {
       "addedWidgets": {},
       "aggData": [],
       "aggError": "",
       "aggOverflow": false,
       "aggSchema": [],
       "aggSeriesLimitReached": false,
       "aggType": "",
       "arguments": {},
       "columnCustomDisplayInfos": {},
       "data": [
        [
         90,
         68,
         0.8,
         1.0,
         8.8
        ],
        [
         113,
         90,
         0.9,
         1.0,
         8.8
        ],
        [
         88,
         232,
         2.8,
         1.0,
         13.8
        ],
        [
         79,
         249,
         1.4,
         1.0,
         12.3
        ],
        [
         142,
         238,
         2.0,
         0.0,
         12.3
        ],
        [
         114,
         90,
         1.6,
         1.0,
         12.8
        ],
        [
         90,
         144,
         1.8,
         1.0,
         13.3
        ],
        [
         114,
         48,
         2.0,
         1.0,
         14.75
        ],
        [
         48,
         152,
         5.7,
         1.0,
         22.3
        ],
        [
         234,
         148,
         1.8,
         1.0,
         14.75
        ]
       ],
       "datasetInfos": [],
       "dbfsResultPath": null,
       "isJsonSchema": true,
       "metadata": {},
       "overflow": false,
       "plotOptions": {
        "customPlotOptions": {},
        "displayType": "table",
        "pivotAggregation": null,
        "pivotColumns": null,
        "xColumns": null,
        "yColumns": null
       },
       "removedWidgets": [],
       "schema": [
        {
         "metadata": "{}",
         "name": "PULocationID",
         "type": "\"long\""
        },
        {
         "metadata": "{}",
         "name": "DOLocationID",
         "type": "\"long\""
        },
        {
         "metadata": "{}",
         "name": "trip_distance",
         "type": "\"double\""
        },
        {
         "metadata": "{}",
         "name": "passenger_count",
         "type": "\"double\""
        },
        {
         "metadata": "{}",
         "name": "total_amount",
         "type": "\"double\""
        }
       ],
       "type": "table"
      }
     },
     "output_type": "display_data"
    }
   ],
   "source": [
    "# Task 1.2 showing table without outliers \n",
    "display(trips_12.take(10))"
   ]
  },
  {
   "cell_type": "markdown",
   "metadata": {
    "application/vnd.databricks.v1+cell": {
     "cellMetadata": {
      "byteLimit": 2048000,
      "rowLimit": 10000
     },
     "inputWidgets": {},
     "nuid": "77f3f561-5d39-46bf-84fa-0b0c3aafa0cc",
     "showTitle": false,
     "title": ""
    }
   },
   "source": [
    "## Task 2 - Compute new columns\n",
    "\n",
    "### Task 2.1 - Zone names\n",
    "\n",
    "Obtain the **start** and **end** zone names of each trip by joining the `trips` and `zone_names` datasets (i.e. by using the `zone_names` dataset as lookup table).\n",
    "\n",
    "**Note:** The columns containing the start and end zone ids of each trip are named `PULocationID` and `DOLocationID`, respectively.\n",
    "\n",
    "### Task 2.2 - Unit profitability\n",
    "\n",
    "Compute the column `unit_profitability = total_amount / trip_distance`."
   ]
  },
  {
   "cell_type": "code",
   "execution_count": 0,
   "metadata": {
    "application/vnd.databricks.v1+cell": {
     "cellMetadata": {
      "byteLimit": 2048000,
      "rowLimit": 10000
     },
     "inputWidgets": {},
     "nuid": "a61d8288-1539-4f34-856f-98aa7fd0f7f4",
     "showTitle": false,
     "title": ""
    }
   },
   "outputs": [],
   "source": [
    "def t21_join_zones(trips_df, zones_df):\n",
    "    # Rename columns in zones_df to avoid ambiguity\n",
    "    pickup_zones_df = zones_df.withColumnRenamed('LocationID', 'PULocationID') \\\n",
    "                              .withColumnRenamed('Zone', 'PUZone') \\\n",
    "                              .withColumnRenamed('Borough', 'PUBorough')  # Rename Borough for pickup\n",
    "    \n",
    "    dropoff_zones_df = zones_df.withColumnRenamed('LocationID', 'DOLocationID') \\\n",
    "                               .withColumnRenamed('Zone', 'DOZone') \\\n",
    "                               .withColumnRenamed('Borough', 'DOBorough')  # Rename Borough for drop-off\n",
    "\n",
    "    # Join for Pickup Location\n",
    "    trips_with_pickup_zones = trips_df.join(pickup_zones_df, 'PULocationID', 'left')\n",
    "\n",
    "    # Join for Drop-off Location\n",
    "    trips_with_all_zones = trips_with_pickup_zones.join(dropoff_zones_df, 'DOLocationID', 'left')\n",
    "\n",
    "    # Explicitly selecting the columns in the final DataFrame to avoid duplicates\n",
    "    final_df = trips_with_all_zones.select(\n",
    "        trips_df[\"*\"],  # Selecting all columns from the original trips_df\n",
    "        \"PUZone\", \"PUBorough\", \"DOZone\", \"DOBorough\"  # Selecting the renamed columns without duplication\n",
    "    )\n",
    "\n",
    "    return final_df"
   ]
  },
  {
   "cell_type": "code",
   "execution_count": 0,
   "metadata": {
    "application/vnd.databricks.v1+cell": {
     "cellMetadata": {
      "byteLimit": 2048000,
      "rowLimit": 10000
     },
     "inputWidgets": {},
     "nuid": "6a3abc15-94bb-4352-964f-e3919956b363",
     "showTitle": false,
     "title": ""
    }
   },
   "outputs": [
    {
     "output_type": "stream",
     "name": "stdout",
     "output_type": "stream",
     "text": [
      "Row count: 2,435,246\n"
     ]
    }
   ],
   "source": [
    "# execute task 2.1\n",
    "trips_21 = t21_join_zones(trips_12, zones_df = zone_names)\n",
    "print_count(trips_21)"
   ]
  },
  {
   "cell_type": "code",
   "execution_count": 0,
   "metadata": {
    "application/vnd.databricks.v1+cell": {
     "cellMetadata": {
      "byteLimit": 2048000,
      "rowLimit": 10000
     },
     "inputWidgets": {},
     "nuid": "b6cadf01-4baf-499f-891d-54747423b96b",
     "showTitle": false,
     "title": ""
    }
   },
   "outputs": [
    {
     "output_type": "display_data",
     "data": {
      "text/html": [
       "<style scoped>\n",
       "  .table-result-container {\n",
       "    max-height: 300px;\n",
       "    overflow: auto;\n",
       "  }\n",
       "  table, th, td {\n",
       "    border: 1px solid black;\n",
       "    border-collapse: collapse;\n",
       "  }\n",
       "  th, td {\n",
       "    padding: 5px;\n",
       "  }\n",
       "  th {\n",
       "    text-align: left;\n",
       "  }\n",
       "</style><div class='table-result-container'><table class='table-result'><thead style='background-color: white'><tr><th>PULocationID</th><th>DOLocationID</th><th>trip_distance</th><th>passenger_count</th><th>total_amount</th><th>PUZone</th><th>PUBorough</th><th>DOZone</th><th>DOBorough</th></tr></thead><tbody><tr><td>90</td><td>68</td><td>0.8</td><td>1.0</td><td>8.8</td><td>Flatiron</td><td>Manhattan</td><td>East Chelsea</td><td>Manhattan</td></tr><tr><td>113</td><td>90</td><td>0.9</td><td>1.0</td><td>8.8</td><td>Greenwich Village North</td><td>Manhattan</td><td>Flatiron</td><td>Manhattan</td></tr><tr><td>88</td><td>232</td><td>2.8</td><td>1.0</td><td>13.8</td><td>Financial District South</td><td>Manhattan</td><td>Two Bridges/Seward Park</td><td>Manhattan</td></tr><tr><td>79</td><td>249</td><td>1.4</td><td>1.0</td><td>12.3</td><td>East Village</td><td>Manhattan</td><td>West Village</td><td>Manhattan</td></tr><tr><td>142</td><td>238</td><td>2.0</td><td>0.0</td><td>12.3</td><td>Lincoln Square East</td><td>Manhattan</td><td>Upper West Side North</td><td>Manhattan</td></tr><tr><td>114</td><td>90</td><td>1.6</td><td>1.0</td><td>12.8</td><td>Greenwich Village South</td><td>Manhattan</td><td>Flatiron</td><td>Manhattan</td></tr><tr><td>90</td><td>144</td><td>1.8</td><td>1.0</td><td>13.3</td><td>Flatiron</td><td>Manhattan</td><td>Little Italy/NoLiTa</td><td>Manhattan</td></tr><tr><td>114</td><td>48</td><td>2.0</td><td>1.0</td><td>14.75</td><td>Greenwich Village South</td><td>Manhattan</td><td>Clinton East</td><td>Manhattan</td></tr><tr><td>48</td><td>152</td><td>5.7</td><td>1.0</td><td>22.3</td><td>Clinton East</td><td>Manhattan</td><td>Manhattanville</td><td>Manhattan</td></tr><tr><td>234</td><td>148</td><td>1.8</td><td>1.0</td><td>14.75</td><td>Union Sq</td><td>Manhattan</td><td>Lower East Side</td><td>Manhattan</td></tr></tbody></table></div>"
      ]
     },
     "metadata": {
      "application/vnd.databricks.v1+output": {
       "addedWidgets": {},
       "aggData": [],
       "aggError": "",
       "aggOverflow": false,
       "aggSchema": [],
       "aggSeriesLimitReached": false,
       "aggType": "",
       "arguments": {},
       "columnCustomDisplayInfos": {},
       "data": [
        [
         90,
         68,
         0.8,
         1.0,
         8.8,
         "Flatiron",
         "Manhattan",
         "East Chelsea",
         "Manhattan"
        ],
        [
         113,
         90,
         0.9,
         1.0,
         8.8,
         "Greenwich Village North",
         "Manhattan",
         "Flatiron",
         "Manhattan"
        ],
        [
         88,
         232,
         2.8,
         1.0,
         13.8,
         "Financial District South",
         "Manhattan",
         "Two Bridges/Seward Park",
         "Manhattan"
        ],
        [
         79,
         249,
         1.4,
         1.0,
         12.3,
         "East Village",
         "Manhattan",
         "West Village",
         "Manhattan"
        ],
        [
         142,
         238,
         2.0,
         0.0,
         12.3,
         "Lincoln Square East",
         "Manhattan",
         "Upper West Side North",
         "Manhattan"
        ],
        [
         114,
         90,
         1.6,
         1.0,
         12.8,
         "Greenwich Village South",
         "Manhattan",
         "Flatiron",
         "Manhattan"
        ],
        [
         90,
         144,
         1.8,
         1.0,
         13.3,
         "Flatiron",
         "Manhattan",
         "Little Italy/NoLiTa",
         "Manhattan"
        ],
        [
         114,
         48,
         2.0,
         1.0,
         14.75,
         "Greenwich Village South",
         "Manhattan",
         "Clinton East",
         "Manhattan"
        ],
        [
         48,
         152,
         5.7,
         1.0,
         22.3,
         "Clinton East",
         "Manhattan",
         "Manhattanville",
         "Manhattan"
        ],
        [
         234,
         148,
         1.8,
         1.0,
         14.75,
         "Union Sq",
         "Manhattan",
         "Lower East Side",
         "Manhattan"
        ]
       ],
       "datasetInfos": [],
       "dbfsResultPath": null,
       "isJsonSchema": true,
       "metadata": {},
       "overflow": false,
       "plotOptions": {
        "customPlotOptions": {},
        "displayType": "table",
        "pivotAggregation": null,
        "pivotColumns": null,
        "xColumns": null,
        "yColumns": null
       },
       "removedWidgets": [],
       "schema": [
        {
         "metadata": "{}",
         "name": "PULocationID",
         "type": "\"long\""
        },
        {
         "metadata": "{}",
         "name": "DOLocationID",
         "type": "\"long\""
        },
        {
         "metadata": "{}",
         "name": "trip_distance",
         "type": "\"double\""
        },
        {
         "metadata": "{}",
         "name": "passenger_count",
         "type": "\"double\""
        },
        {
         "metadata": "{}",
         "name": "total_amount",
         "type": "\"double\""
        },
        {
         "metadata": "{}",
         "name": "PUZone",
         "type": "\"string\""
        },
        {
         "metadata": "{}",
         "name": "PUBorough",
         "type": "\"string\""
        },
        {
         "metadata": "{}",
         "name": "DOZone",
         "type": "\"string\""
        },
        {
         "metadata": "{}",
         "name": "DOBorough",
         "type": "\"string\""
        }
       ],
       "type": "table"
      }
     },
     "output_type": "display_data"
    }
   ],
   "source": [
    "# Task 2.1 join table showing 10 example rows\n",
    "display(trips_21.take(10))"
   ]
  },
  {
   "cell_type": "code",
   "execution_count": 0,
   "metadata": {
    "application/vnd.databricks.v1+cell": {
     "cellMetadata": {
      "byteLimit": 2048000,
      "rowLimit": 10000
     },
     "inputWidgets": {},
     "nuid": "244ecaed-2632-4ed1-ab91-e41d8a91b7c2",
     "showTitle": false,
     "title": ""
    }
   },
   "outputs": [],
   "source": [
    "from pyspark.sql.functions import col\n",
    "\n",
    "def t22_calc_profit(df):\n",
    "    # Calculate unit profitability and add it as a new column\n",
    "    df_with_profit = df.withColumn(\"unit_profitability\", col(\"total_amount\") / col(\"trip_distance\"))\n",
    "    return df_with_profit"
   ]
  },
  {
   "cell_type": "code",
   "execution_count": 0,
   "metadata": {
    "application/vnd.databricks.v1+cell": {
     "cellMetadata": {
      "byteLimit": 2048000,
      "rowLimit": 10000
     },
     "inputWidgets": {},
     "nuid": "a3528be7-4fe2-4e68-a94b-a3b33ada952c",
     "showTitle": false,
     "title": ""
    }
   },
   "outputs": [
    {
     "output_type": "stream",
     "name": "stdout",
     "output_type": "stream",
     "text": [
      "Row count: 2,435,246\n"
     ]
    }
   ],
   "source": [
    "# execute task 2.2\n",
    "trips_22 = t22_calc_profit(trips_21)\n",
    "\n",
    "print_count(trips_22)"
   ]
  },
  {
   "cell_type": "code",
   "execution_count": 0,
   "metadata": {
    "application/vnd.databricks.v1+cell": {
     "cellMetadata": {
      "byteLimit": 2048000,
      "rowLimit": 10000
     },
     "inputWidgets": {},
     "nuid": "c6609e72-1d46-4173-9884-77a1c4632b08",
     "showTitle": false,
     "title": ""
    }
   },
   "outputs": [
    {
     "output_type": "display_data",
     "data": {
      "text/html": [
       "<style scoped>\n",
       "  .table-result-container {\n",
       "    max-height: 300px;\n",
       "    overflow: auto;\n",
       "  }\n",
       "  table, th, td {\n",
       "    border: 1px solid black;\n",
       "    border-collapse: collapse;\n",
       "  }\n",
       "  th, td {\n",
       "    padding: 5px;\n",
       "  }\n",
       "  th {\n",
       "    text-align: left;\n",
       "  }\n",
       "</style><div class='table-result-container'><table class='table-result'><thead style='background-color: white'><tr><th>PULocationID</th><th>DOLocationID</th><th>trip_distance</th><th>passenger_count</th><th>total_amount</th><th>PUZone</th><th>PUBorough</th><th>DOZone</th><th>DOBorough</th><th>unit_profitability</th></tr></thead><tbody><tr><td>90</td><td>68</td><td>0.8</td><td>1.0</td><td>8.8</td><td>Flatiron</td><td>Manhattan</td><td>East Chelsea</td><td>Manhattan</td><td>11.0</td></tr><tr><td>113</td><td>90</td><td>0.9</td><td>1.0</td><td>8.8</td><td>Greenwich Village North</td><td>Manhattan</td><td>Flatiron</td><td>Manhattan</td><td>9.777777777777779</td></tr><tr><td>88</td><td>232</td><td>2.8</td><td>1.0</td><td>13.8</td><td>Financial District South</td><td>Manhattan</td><td>Two Bridges/Seward Park</td><td>Manhattan</td><td>4.928571428571429</td></tr><tr><td>79</td><td>249</td><td>1.4</td><td>1.0</td><td>12.3</td><td>East Village</td><td>Manhattan</td><td>West Village</td><td>Manhattan</td><td>8.785714285714286</td></tr><tr><td>142</td><td>238</td><td>2.0</td><td>0.0</td><td>12.3</td><td>Lincoln Square East</td><td>Manhattan</td><td>Upper West Side North</td><td>Manhattan</td><td>6.15</td></tr><tr><td>114</td><td>90</td><td>1.6</td><td>1.0</td><td>12.8</td><td>Greenwich Village South</td><td>Manhattan</td><td>Flatiron</td><td>Manhattan</td><td>8.0</td></tr><tr><td>90</td><td>144</td><td>1.8</td><td>1.0</td><td>13.3</td><td>Flatiron</td><td>Manhattan</td><td>Little Italy/NoLiTa</td><td>Manhattan</td><td>7.388888888888889</td></tr><tr><td>114</td><td>48</td><td>2.0</td><td>1.0</td><td>14.75</td><td>Greenwich Village South</td><td>Manhattan</td><td>Clinton East</td><td>Manhattan</td><td>7.375</td></tr><tr><td>48</td><td>152</td><td>5.7</td><td>1.0</td><td>22.3</td><td>Clinton East</td><td>Manhattan</td><td>Manhattanville</td><td>Manhattan</td><td>3.912280701754386</td></tr><tr><td>234</td><td>148</td><td>1.8</td><td>1.0</td><td>14.75</td><td>Union Sq</td><td>Manhattan</td><td>Lower East Side</td><td>Manhattan</td><td>8.194444444444445</td></tr></tbody></table></div>"
      ]
     },
     "metadata": {
      "application/vnd.databricks.v1+output": {
       "addedWidgets": {},
       "aggData": [],
       "aggError": "",
       "aggOverflow": false,
       "aggSchema": [],
       "aggSeriesLimitReached": false,
       "aggType": "",
       "arguments": {},
       "columnCustomDisplayInfos": {},
       "data": [
        [
         90,
         68,
         0.8,
         1.0,
         8.8,
         "Flatiron",
         "Manhattan",
         "East Chelsea",
         "Manhattan",
         11.0
        ],
        [
         113,
         90,
         0.9,
         1.0,
         8.8,
         "Greenwich Village North",
         "Manhattan",
         "Flatiron",
         "Manhattan",
         9.777777777777779
        ],
        [
         88,
         232,
         2.8,
         1.0,
         13.8,
         "Financial District South",
         "Manhattan",
         "Two Bridges/Seward Park",
         "Manhattan",
         4.928571428571429
        ],
        [
         79,
         249,
         1.4,
         1.0,
         12.3,
         "East Village",
         "Manhattan",
         "West Village",
         "Manhattan",
         8.785714285714286
        ],
        [
         142,
         238,
         2.0,
         0.0,
         12.3,
         "Lincoln Square East",
         "Manhattan",
         "Upper West Side North",
         "Manhattan",
         6.15
        ],
        [
         114,
         90,
         1.6,
         1.0,
         12.8,
         "Greenwich Village South",
         "Manhattan",
         "Flatiron",
         "Manhattan",
         8.0
        ],
        [
         90,
         144,
         1.8,
         1.0,
         13.3,
         "Flatiron",
         "Manhattan",
         "Little Italy/NoLiTa",
         "Manhattan",
         7.388888888888889
        ],
        [
         114,
         48,
         2.0,
         1.0,
         14.75,
         "Greenwich Village South",
         "Manhattan",
         "Clinton East",
         "Manhattan",
         7.375
        ],
        [
         48,
         152,
         5.7,
         1.0,
         22.3,
         "Clinton East",
         "Manhattan",
         "Manhattanville",
         "Manhattan",
         3.912280701754386
        ],
        [
         234,
         148,
         1.8,
         1.0,
         14.75,
         "Union Sq",
         "Manhattan",
         "Lower East Side",
         "Manhattan",
         8.194444444444445
        ]
       ],
       "datasetInfos": [],
       "dbfsResultPath": null,
       "isJsonSchema": true,
       "metadata": {},
       "overflow": false,
       "plotOptions": {
        "customPlotOptions": {},
        "displayType": "table",
        "pivotAggregation": null,
        "pivotColumns": null,
        "xColumns": null,
        "yColumns": null
       },
       "removedWidgets": [],
       "schema": [
        {
         "metadata": "{}",
         "name": "PULocationID",
         "type": "\"long\""
        },
        {
         "metadata": "{}",
         "name": "DOLocationID",
         "type": "\"long\""
        },
        {
         "metadata": "{}",
         "name": "trip_distance",
         "type": "\"double\""
        },
        {
         "metadata": "{}",
         "name": "passenger_count",
         "type": "\"double\""
        },
        {
         "metadata": "{}",
         "name": "total_amount",
         "type": "\"double\""
        },
        {
         "metadata": "{}",
         "name": "PUZone",
         "type": "\"string\""
        },
        {
         "metadata": "{}",
         "name": "PUBorough",
         "type": "\"string\""
        },
        {
         "metadata": "{}",
         "name": "DOZone",
         "type": "\"string\""
        },
        {
         "metadata": "{}",
         "name": "DOBorough",
         "type": "\"string\""
        },
        {
         "metadata": "{}",
         "name": "unit_profitability",
         "type": "\"double\""
        }
       ],
       "type": "table"
      }
     },
     "output_type": "display_data"
    }
   ],
   "source": [
    "#Task 2.2 showing table with unit profitability column\n",
    "display(trips_22.take(10))"
   ]
  },
  {
   "cell_type": "markdown",
   "metadata": {
    "application/vnd.databricks.v1+cell": {
     "cellMetadata": {
      "byteLimit": 2048000,
      "rowLimit": 10000
     },
     "inputWidgets": {},
     "nuid": "93c4a6e7-512f-40a8-ad2c-41a84ade373f",
     "showTitle": false,
     "title": ""
    }
   },
   "source": [
    "## Task 3: Rank zones by traffic, passenger volume and profitability\n",
    "\n",
    "### 3.1 - Summarise interzonal travel\n",
    "\n",
    "Build a graph data structure of zone-to-zone traffic, representing aggregated data about trips between any two zones. The graph will have one node for each zone and one edge connecting each pair of zones. In addition, edges contain aggregate information about all trips between those zones. \n",
    "\n",
    "For example, zones Z1 and Z2 are connected by *two* edges: edge Z1 --> Z2 carries aggregate data about all trips that originated in Z1 and ended in Z2, and edge Z2 --> Z1 carries aggregate data about all trips that originated in Z2 and ended in Z1.\n",
    "\n",
    "The aggregate information of interzonal travel must include the following data:\n",
    "\n",
    "- `average_unit_profit` - the average unit profitability (calculated as `mean(unit_profitability)`).\n",
    "- `trips_count` -- the total number of recorded trips.\n",
    "- `total_passengers` -- the total number of passenger across all trips (sum of `passenger_count`).\n",
    "\n",
    "This graph can be represented as a new dataframe, with schema:\n",
    "\n",
    "\\[`PULocationID`, `DOLocationID`, `average_unit_profit`, `trips_count`, `total_passengers` \\]\n",
    "\n",
    "__hint__: the `groupby()` operator produces a `pyspark.sql.GroupedData` structure. You can then calculate multiple aggregations from this using `pyspark.sql.GroupedData.agg()`: \n",
    "- https://spark.apache.org/docs/3.2.0/api/python/reference/pyspark.pandas/api/pyspark.pandas.DataFrame.groupby.html\n",
    "- https://spark.apache.org/docs/3.2.0/api/python/reference/api/pyspark.sql.GroupedData.agg.html\n",
    "\n",
    "### Task 3.2 - Obtain top-10 zones\n",
    "\n",
    "For each of the following measures, report the top-10 zones _using their plain names you dereferenced in the previous step, not the codes_. Note that this requires ranking the nodes in different orders. Specifically, you need to calculate the following further aggregations:\n",
    "\n",
    "- the **total** number of trips originating from Z. This is simply the sum of `trips_count` over all outgoing edges for Z, i.e., edges of the form Z -> \\*\n",
    "- the **average** profitability of a zone. This is the average of all `average_unit_profit` over all *outgoing* edges from Z.\n",
    "- The **total** passenger volume measured as the **sum** of `total_passengers` carried in trips that originate from Z"
   ]
  },
  {
   "cell_type": "code",
   "execution_count": 0,
   "metadata": {
    "application/vnd.databricks.v1+cell": {
     "cellMetadata": {
      "byteLimit": 2048000,
      "rowLimit": 10000
     },
     "inputWidgets": {},
     "nuid": "069fc68b-acdd-47c2-be12-27d32b7916c8",
     "showTitle": false,
     "title": ""
    }
   },
   "outputs": [],
   "source": [
    "from pyspark.sql import functions as F\n",
    "\n",
    "\"\"\"\n",
    "    Summarizes trips data by constructing a graph structure where each node represents a zone, and edges represent aggregated data about trips between pairs of zones (PULocationID and DOLocationID).\n",
    "\n",
    "    Parameters:\n",
    "    DataFrame containing trips data with columns for pickup location ID (PULocationID), dropoff location ID (DOLocationID), unit profitability, and passenger count.\n",
    "\n",
    "    Returns:\n",
    "    DataFrame (aggregated_df) containing aggregated information for each pair of zones, including: average unit profitability, total number of trips, and total number of passengers.\n",
    "    \"\"\"\n",
    "\n",
    "def t31_summarise_trips(df):\n",
    "    # Group by PULocationID and DOLocationID to build the graph structure\n",
    "    aggregated_df = df.groupBy(\"PULocationID\", \"DOLocationID\").agg(\n",
    "        # The average unit profitability (as 'average_unit_profit')\n",
    "        F.mean(\"unit_profitability\").alias(\"average_unit_profit\"),\n",
    "        # The total number of trips between the two zones (as 'trips_count')\n",
    "        F.count(\"*\").alias(\"trips_count\"),\n",
    "        # The total number of passengers across all trips between the two zones (as 'total_passengers')\n",
    "        F.sum(\"passenger_count\").alias(\"total_passengers\")\n",
    "    )\n",
    "    \n",
    "    return aggregated_df"
   ]
  },
  {
   "cell_type": "code",
   "execution_count": 0,
   "metadata": {
    "application/vnd.databricks.v1+cell": {
     "cellMetadata": {
      "byteLimit": 2048000,
      "rowLimit": 10000
     },
     "inputWidgets": {},
     "nuid": "b81c74ad-e5f1-4b69-a320-bdf375b94e8d",
     "showTitle": false,
     "title": ""
    }
   },
   "outputs": [
    {
     "output_type": "stream",
     "name": "stdout",
     "output_type": "stream",
     "text": [
      "Row count: 11,833\n"
     ]
    }
   ],
   "source": [
    "# execute task 3.1\n",
    "graph = t31_summarise_trips(trips_22)\n",
    "print_count(graph)"
   ]
  },
  {
   "cell_type": "code",
   "execution_count": 0,
   "metadata": {
    "application/vnd.databricks.v1+cell": {
     "cellMetadata": {
      "byteLimit": 2048000,
      "rowLimit": 10000
     },
     "inputWidgets": {},
     "nuid": "68419334-bf5e-4b9d-8554-334d24c90084",
     "showTitle": false,
     "title": ""
    }
   },
   "outputs": [
    {
     "output_type": "display_data",
     "data": {
      "text/html": [
       "<style scoped>\n",
       "  .table-result-container {\n",
       "    max-height: 300px;\n",
       "    overflow: auto;\n",
       "  }\n",
       "  table, th, td {\n",
       "    border: 1px solid black;\n",
       "    border-collapse: collapse;\n",
       "  }\n",
       "  th, td {\n",
       "    padding: 5px;\n",
       "  }\n",
       "  th {\n",
       "    text-align: left;\n",
       "  }\n",
       "</style><div class='table-result-container'><table class='table-result'><thead style='background-color: white'><tr><th>PULocationID</th><th>DOLocationID</th><th>average_unit_profit</th><th>trips_count</th><th>total_passengers</th></tr></thead><tbody><tr><td>228</td><td>26</td><td>7.41471058428216</td><td>8</td><td>2.0</td></tr><tr><td>108</td><td>26</td><td>6.236111111111111</td><td>1</td><td>1.0</td></tr><tr><td>25</td><td>26</td><td>4.722645989088705</td><td>2</td><td>3.0</td></tr><tr><td>21</td><td>29</td><td>8.13479934900303</td><td>9</td><td>1.0</td></tr><tr><td>97</td><td>26</td><td>4.504891363110619</td><td>9</td><td>10.0</td></tr><tr><td>22</td><td>26</td><td>15.249447857883409</td><td>32</td><td>2.0</td></tr><tr><td>178</td><td>26</td><td>9.437984319433491</td><td>9</td><td>3.0</td></tr><tr><td>26</td><td>26</td><td>19.89301966792171</td><td>86</td><td>11.0</td></tr><tr><td>181</td><td>26</td><td>6.467595978916211</td><td>11</td><td>6.0</td></tr><tr><td>87</td><td>29</td><td>6.241486068111455</td><td>1</td><td>1.0</td></tr></tbody></table></div>"
      ]
     },
     "metadata": {
      "application/vnd.databricks.v1+output": {
       "addedWidgets": {},
       "aggData": [],
       "aggError": "",
       "aggOverflow": false,
       "aggSchema": [],
       "aggSeriesLimitReached": false,
       "aggType": "",
       "arguments": {},
       "columnCustomDisplayInfos": {},
       "data": [
        [
         228,
         26,
         7.41471058428216,
         8,
         2.0
        ],
        [
         108,
         26,
         6.236111111111111,
         1,
         1.0
        ],
        [
         25,
         26,
         4.722645989088705,
         2,
         3.0
        ],
        [
         21,
         29,
         8.13479934900303,
         9,
         1.0
        ],
        [
         97,
         26,
         4.504891363110619,
         9,
         10.0
        ],
        [
         22,
         26,
         15.249447857883409,
         32,
         2.0
        ],
        [
         178,
         26,
         9.437984319433491,
         9,
         3.0
        ],
        [
         26,
         26,
         19.89301966792171,
         86,
         11.0
        ],
        [
         181,
         26,
         6.467595978916211,
         11,
         6.0
        ],
        [
         87,
         29,
         6.241486068111455,
         1,
         1.0
        ]
       ],
       "datasetInfos": [],
       "dbfsResultPath": null,
       "isJsonSchema": true,
       "metadata": {},
       "overflow": false,
       "plotOptions": {
        "customPlotOptions": {},
        "displayType": "table",
        "pivotAggregation": null,
        "pivotColumns": null,
        "xColumns": null,
        "yColumns": null
       },
       "removedWidgets": [],
       "schema": [
        {
         "metadata": "{}",
         "name": "PULocationID",
         "type": "\"long\""
        },
        {
         "metadata": "{}",
         "name": "DOLocationID",
         "type": "\"long\""
        },
        {
         "metadata": "{}",
         "name": "average_unit_profit",
         "type": "\"double\""
        },
        {
         "metadata": "{}",
         "name": "trips_count",
         "type": "\"long\""
        },
        {
         "metadata": "{}",
         "name": "total_passengers",
         "type": "\"double\""
        }
       ],
       "type": "table"
      }
     },
     "output_type": "display_data"
    }
   ],
   "source": [
    "# showing 3.1 trip summarization table based on profit, trip and passenger\n",
    "display(graph.take(10))"
   ]
  },
  {
   "cell_type": "code",
   "execution_count": 0,
   "metadata": {
    "application/vnd.databricks.v1+cell": {
     "cellMetadata": {
      "byteLimit": 2048000,
      "rowLimit": 10000
     },
     "inputWidgets": {},
     "nuid": "89ad28af-d685-44eb-ab59-f1cbfd242734",
     "showTitle": false,
     "title": ""
    }
   },
   "outputs": [],
   "source": [
    "from pyspark.sql import functions as F\n",
    "\n",
    "def t32_summarise_zones_pairs(df, zones_df):\n",
    "    # Aggregate trips data by pickup location\n",
    "    df = df.groupBy(\"PULocationID\").agg(\n",
    "        F.avg(\"average_unit_profit\").alias(\"average_profitability\"),\n",
    "        F.count(\"*\").alias(\"total_trips\"),\n",
    "        F.sum(\"trips_count\").alias(\"total_passengers\")\n",
    "    )\n",
    "    \n",
    "    # Alias the zones DataFrame to avoid column ambiguity\n",
    "    zones_df_alias = zones_df.alias(\"zones\")\n",
    "    \n",
    "    # Join with zone_names to get zone names, using DataFrame alias to disambiguate\n",
    "    df = df.join(zones_df_alias, df[\"PULocationID\"] == zones_df_alias[\"LocationID\"], \"left\")\\\n",
    "                   .select(\n",
    "                       df[\"PULocationID\"],\n",
    "                       F.col(\"zones.Zone\").alias(\"zone_name\"),\n",
    "                       \"average_profitability\",\n",
    "                       \"total_trips\",\n",
    "                       \"total_passengers\"\n",
    "                   )\n",
    "    \n",
    "    return df\n",
    "\n",
    "\n",
    "# Top 10 ranked zones by total trips\n",
    "def t32_top10_trips(df_zones):\n",
    "    return df_zones.orderBy(F.desc(\"total_trips\")).limit(10)\n",
    "\n",
    "# Top 10 ranked zones by average profitability\n",
    "def t32_top10_profit(df_zones):\n",
    "    return df_zones.orderBy(F.desc(\"average_profitability\")).limit(10)\n",
    "\n",
    "# Top 10 ranked zones by total passenger volume\n",
    "def t32_top10_passenger(df_zones):\n",
    "    return df_zones.orderBy(F.desc(\"total_passengers\")).limit(10)"
   ]
  },
  {
   "cell_type": "code",
   "execution_count": 0,
   "metadata": {
    "application/vnd.databricks.v1+cell": {
     "cellMetadata": {
      "byteLimit": 2048000,
      "rowLimit": 10000
     },
     "inputWidgets": {},
     "nuid": "e4e5184b-7b34-4894-a097-ad43de02dbc2",
     "showTitle": false,
     "title": ""
    }
   },
   "outputs": [],
   "source": [
    "zones = t32_summarise_zones_pairs(graph, zone_names)\n",
    "\n",
    "top10_trips     = t32_top10_trips(zones)\n",
    "top10_profit    = t32_top10_profit(zones)\n",
    "top10_passenger = t32_top10_passenger(zones)"
   ]
  },
  {
   "cell_type": "code",
   "execution_count": 0,
   "metadata": {
    "application/vnd.databricks.v1+cell": {
     "cellMetadata": {
      "byteLimit": 2048000,
      "rowLimit": 10000
     },
     "inputWidgets": {},
     "nuid": "382adcca-e15c-45d2-88bf-6ae97b8c6e30",
     "showTitle": false,
     "title": ""
    }
   },
   "outputs": [
    {
     "output_type": "display_data",
     "data": {
      "text/html": [
       "<style scoped>\n",
       "  .table-result-container {\n",
       "    max-height: 300px;\n",
       "    overflow: auto;\n",
       "  }\n",
       "  table, th, td {\n",
       "    border: 1px solid black;\n",
       "    border-collapse: collapse;\n",
       "  }\n",
       "  th, td {\n",
       "    padding: 5px;\n",
       "  }\n",
       "  th {\n",
       "    text-align: left;\n",
       "  }\n",
       "</style><div class='table-result-container'><table class='table-result'><thead style='background-color: white'><tr><th>PULocationID</th><th>zone_name</th><th>average_profitability</th><th>total_trips</th><th>total_passengers</th></tr></thead><tbody><tr><td>265</td><td>null</td><td>11.695315512234426</td><td>213</td><td>2707</td></tr><tr><td>264</td><td>NV</td><td>8.452141066876376</td><td>130</td><td>11583</td></tr><tr><td>79</td><td>East Village</td><td>7.7509845653763225</td><td>104</td><td>72429</td></tr><tr><td>141</td><td>Lenox Hill West</td><td>6.558095770959325</td><td>102</td><td>73531</td></tr><tr><td>107</td><td>Gramercy</td><td>7.857798853263775</td><td>99</td><td>65534</td></tr><tr><td>237</td><td>Upper East Side South</td><td>6.9217966736424374</td><td>98</td><td>121281</td></tr><tr><td>186</td><td>Penn Station/Madison Sq West</td><td>7.964996726649009</td><td>98</td><td>95864</td></tr><tr><td>170</td><td>Murray Hill</td><td>7.810456353197745</td><td>97</td><td>87410</td></tr><tr><td>234</td><td>Union Sq</td><td>7.642858650333161</td><td>97</td><td>73000</td></tr><tr><td>249</td><td>West Village</td><td>8.686959834448848</td><td>97</td><td>54470</td></tr></tbody></table></div>"
      ]
     },
     "metadata": {
      "application/vnd.databricks.v1+output": {
       "addedWidgets": {},
       "aggData": [],
       "aggError": "",
       "aggOverflow": false,
       "aggSchema": [],
       "aggSeriesLimitReached": false,
       "aggType": "",
       "arguments": {},
       "columnCustomDisplayInfos": {},
       "data": [
        [
         265,
         null,
         11.695315512234426,
         213,
         2707
        ],
        [
         264,
         "NV",
         8.452141066876376,
         130,
         11583
        ],
        [
         79,
         "East Village",
         7.7509845653763225,
         104,
         72429
        ],
        [
         141,
         "Lenox Hill West",
         6.558095770959325,
         102,
         73531
        ],
        [
         107,
         "Gramercy",
         7.857798853263775,
         99,
         65534
        ],
        [
         237,
         "Upper East Side South",
         6.9217966736424374,
         98,
         121281
        ],
        [
         186,
         "Penn Station/Madison Sq West",
         7.964996726649009,
         98,
         95864
        ],
        [
         170,
         "Murray Hill",
         7.810456353197745,
         97,
         87410
        ],
        [
         234,
         "Union Sq",
         7.642858650333161,
         97,
         73000
        ],
        [
         249,
         "West Village",
         8.686959834448848,
         97,
         54470
        ]
       ],
       "datasetInfos": [],
       "dbfsResultPath": null,
       "isJsonSchema": true,
       "metadata": {},
       "overflow": false,
       "plotOptions": {
        "customPlotOptions": {},
        "displayType": "table",
        "pivotAggregation": null,
        "pivotColumns": null,
        "xColumns": null,
        "yColumns": null
       },
       "removedWidgets": [],
       "schema": [
        {
         "metadata": "{}",
         "name": "PULocationID",
         "type": "\"long\""
        },
        {
         "metadata": "{}",
         "name": "zone_name",
         "type": "\"string\""
        },
        {
         "metadata": "{}",
         "name": "average_profitability",
         "type": "\"double\""
        },
        {
         "metadata": "{}",
         "name": "total_trips",
         "type": "\"long\""
        },
        {
         "metadata": "{}",
         "name": "total_passengers",
         "type": "\"long\""
        }
       ],
       "type": "table"
      }
     },
     "output_type": "display_data"
    }
   ],
   "source": [
    "# \"Top 10 trips\" table\n",
    "display(top10_trips)"
   ]
  },
  {
   "cell_type": "code",
   "execution_count": 0,
   "metadata": {
    "application/vnd.databricks.v1+cell": {
     "cellMetadata": {
      "byteLimit": 2048000,
      "rowLimit": 10000
     },
     "inputWidgets": {},
     "nuid": "847abfd1-7424-43c0-976e-5c615736a56b",
     "showTitle": false,
     "title": ""
    }
   },
   "outputs": [
    {
     "output_type": "display_data",
     "data": {
      "text/html": [
       "<style scoped>\n",
       "  .table-result-container {\n",
       "    max-height: 300px;\n",
       "    overflow: auto;\n",
       "  }\n",
       "  table, th, td {\n",
       "    border: 1px solid black;\n",
       "    border-collapse: collapse;\n",
       "  }\n",
       "  th, td {\n",
       "    padding: 5px;\n",
       "  }\n",
       "  th {\n",
       "    text-align: left;\n",
       "  }\n",
       "</style><div class='table-result-container'><table class='table-result'><thead style='background-color: white'><tr><th>PULocationID</th><th>zone_name</th><th>average_profitability</th><th>total_trips</th><th>total_passengers</th></tr></thead><tbody><tr><td>15</td><td>Bay Terrace/Fort Totten</td><td>373.64352610622007</td><td>10</td><td>43</td></tr><tr><td>10</td><td>Baisley Park</td><td>106.87455960856855</td><td>29</td><td>307</td></tr><tr><td>207</td><td>Saint Michaels Cemetery/Woodside</td><td>103.12501378067475</td><td>5</td><td>25</td></tr><tr><td>190</td><td>Prospect Park</td><td>95.73464655984553</td><td>33</td><td>71</td></tr><tr><td>241</td><td>Van Cortlandt Village</td><td>59.39185912313199</td><td>42</td><td>185</td></tr><tr><td>101</td><td>Glen Oaks</td><td>48.41059594606823</td><td>8</td><td>20</td></tr><tr><td>115</td><td>Grymes Hill/Clifton</td><td>38.65</td><td>2</td><td>2</td></tr><tr><td>59</td><td>Crotona Park</td><td>36.84437137879828</td><td>7</td><td>7</td></tr><tr><td>81</td><td>Eastchester</td><td>35.018824815920645</td><td>28</td><td>139</td></tr><tr><td>89</td><td>Flatbush/Ditmas Park</td><td>34.99531722605364</td><td>57</td><td>634</td></tr></tbody></table></div>"
      ]
     },
     "metadata": {
      "application/vnd.databricks.v1+output": {
       "addedWidgets": {},
       "aggData": [],
       "aggError": "",
       "aggOverflow": false,
       "aggSchema": [],
       "aggSeriesLimitReached": false,
       "aggType": "",
       "arguments": {},
       "columnCustomDisplayInfos": {},
       "data": [
        [
         15,
         "Bay Terrace/Fort Totten",
         373.64352610622007,
         10,
         43
        ],
        [
         10,
         "Baisley Park",
         106.87455960856855,
         29,
         307
        ],
        [
         207,
         "Saint Michaels Cemetery/Woodside",
         103.12501378067475,
         5,
         25
        ],
        [
         190,
         "Prospect Park",
         95.73464655984553,
         33,
         71
        ],
        [
         241,
         "Van Cortlandt Village",
         59.39185912313199,
         42,
         185
        ],
        [
         101,
         "Glen Oaks",
         48.41059594606823,
         8,
         20
        ],
        [
         115,
         "Grymes Hill/Clifton",
         38.65,
         2,
         2
        ],
        [
         59,
         "Crotona Park",
         36.84437137879828,
         7,
         7
        ],
        [
         81,
         "Eastchester",
         35.018824815920645,
         28,
         139
        ],
        [
         89,
         "Flatbush/Ditmas Park",
         34.99531722605364,
         57,
         634
        ]
       ],
       "datasetInfos": [],
       "dbfsResultPath": null,
       "isJsonSchema": true,
       "metadata": {},
       "overflow": false,
       "plotOptions": {
        "customPlotOptions": {},
        "displayType": "table",
        "pivotAggregation": null,
        "pivotColumns": null,
        "xColumns": null,
        "yColumns": null
       },
       "removedWidgets": [],
       "schema": [
        {
         "metadata": "{}",
         "name": "PULocationID",
         "type": "\"long\""
        },
        {
         "metadata": "{}",
         "name": "zone_name",
         "type": "\"string\""
        },
        {
         "metadata": "{}",
         "name": "average_profitability",
         "type": "\"double\""
        },
        {
         "metadata": "{}",
         "name": "total_trips",
         "type": "\"long\""
        },
        {
         "metadata": "{}",
         "name": "total_passengers",
         "type": "\"long\""
        }
       ],
       "type": "table"
      }
     },
     "output_type": "display_data"
    }
   ],
   "source": [
    "# \"Top 10 Profit\" table\n",
    "display(top10_profit)"
   ]
  },
  {
   "cell_type": "code",
   "execution_count": 0,
   "metadata": {
    "application/vnd.databricks.v1+cell": {
     "cellMetadata": {
      "byteLimit": 2048000,
      "rowLimit": 10000
     },
     "inputWidgets": {},
     "nuid": "90eb7561-5775-4e6a-8317-473f311e4cfe",
     "showTitle": false,
     "title": ""
    }
   },
   "outputs": [
    {
     "output_type": "display_data",
     "data": {
      "text/html": [
       "<style scoped>\n",
       "  .table-result-container {\n",
       "    max-height: 300px;\n",
       "    overflow: auto;\n",
       "  }\n",
       "  table, th, td {\n",
       "    border: 1px solid black;\n",
       "    border-collapse: collapse;\n",
       "  }\n",
       "  th, td {\n",
       "    padding: 5px;\n",
       "  }\n",
       "  th {\n",
       "    text-align: left;\n",
       "  }\n",
       "</style><div class='table-result-container'><table class='table-result'><thead style='background-color: white'><tr><th>PULocationID</th><th>zone_name</th><th>average_profitability</th><th>total_trips</th><th>total_passengers</th></tr></thead><tbody><tr><td>237</td><td>Upper East Side South</td><td>6.9217966736424374</td><td>98</td><td>121281</td></tr><tr><td>236</td><td>Upper East Side North</td><td>7.10318953158156</td><td>92</td><td>102930</td></tr><tr><td>186</td><td>Penn Station/Madison Sq West</td><td>7.964996726649009</td><td>98</td><td>95864</td></tr><tr><td>161</td><td>Midtown Center</td><td>7.7010961429955795</td><td>94</td><td>92794</td></tr><tr><td>170</td><td>Murray Hill</td><td>7.810456353197745</td><td>97</td><td>87410</td></tr><tr><td>162</td><td>Midtown East</td><td>7.4610168132805095</td><td>92</td><td>84103</td></tr><tr><td>142</td><td>Lincoln Square East</td><td>7.580620086079359</td><td>82</td><td>80200</td></tr><tr><td>239</td><td>Upper West Side South</td><td>6.926375170619549</td><td>80</td><td>73739</td></tr><tr><td>48</td><td>Clinton East</td><td>9.000742071113594</td><td>91</td><td>73585</td></tr><tr><td>141</td><td>Lenox Hill West</td><td>6.558095770959325</td><td>102</td><td>73531</td></tr></tbody></table></div>"
      ]
     },
     "metadata": {
      "application/vnd.databricks.v1+output": {
       "addedWidgets": {},
       "aggData": [],
       "aggError": "",
       "aggOverflow": false,
       "aggSchema": [],
       "aggSeriesLimitReached": false,
       "aggType": "",
       "arguments": {},
       "columnCustomDisplayInfos": {},
       "data": [
        [
         237,
         "Upper East Side South",
         6.9217966736424374,
         98,
         121281
        ],
        [
         236,
         "Upper East Side North",
         7.10318953158156,
         92,
         102930
        ],
        [
         186,
         "Penn Station/Madison Sq West",
         7.964996726649009,
         98,
         95864
        ],
        [
         161,
         "Midtown Center",
         7.7010961429955795,
         94,
         92794
        ],
        [
         170,
         "Murray Hill",
         7.810456353197745,
         97,
         87410
        ],
        [
         162,
         "Midtown East",
         7.4610168132805095,
         92,
         84103
        ],
        [
         142,
         "Lincoln Square East",
         7.580620086079359,
         82,
         80200
        ],
        [
         239,
         "Upper West Side South",
         6.926375170619549,
         80,
         73739
        ],
        [
         48,
         "Clinton East",
         9.000742071113594,
         91,
         73585
        ],
        [
         141,
         "Lenox Hill West",
         6.558095770959325,
         102,
         73531
        ]
       ],
       "datasetInfos": [],
       "dbfsResultPath": null,
       "isJsonSchema": true,
       "metadata": {},
       "overflow": false,
       "plotOptions": {
        "customPlotOptions": {},
        "displayType": "table",
        "pivotAggregation": null,
        "pivotColumns": null,
        "xColumns": null,
        "yColumns": null
       },
       "removedWidgets": [],
       "schema": [
        {
         "metadata": "{}",
         "name": "PULocationID",
         "type": "\"long\""
        },
        {
         "metadata": "{}",
         "name": "zone_name",
         "type": "\"string\""
        },
        {
         "metadata": "{}",
         "name": "average_profitability",
         "type": "\"double\""
        },
        {
         "metadata": "{}",
         "name": "total_trips",
         "type": "\"long\""
        },
        {
         "metadata": "{}",
         "name": "total_passengers",
         "type": "\"long\""
        }
       ],
       "type": "table"
      }
     },
     "output_type": "display_data"
    }
   ],
   "source": [
    "# \"Top 10 Passenger\" table\n",
    "display(top10_passenger)"
   ]
  },
  {
   "cell_type": "markdown",
   "metadata": {
    "application/vnd.databricks.v1+cell": {
     "cellMetadata": {
      "byteLimit": 2048000,
      "rowLimit": 10000
     },
     "inputWidgets": {},
     "nuid": "7b950c5e-b7fd-405e-a0ba-0fe9c2752678",
     "showTitle": false,
     "title": ""
    }
   },
   "source": [
    "## Task 4 - Record the pipeline's execution time\n",
    "\n",
    "Record the execution time of:\n",
    "\n",
    "1. the whole pipeline\n",
    "2. the whole pipeline except task 1.2\n",
    "\n",
    "on the two tables below, for all dataset sizes: `'S'`, `'M'`, `'L'`, `'XL'`, `'XXL'`, and data formats: `parquet` and `delta`.\n",
    "\n",
    "Analyse the resulting execution times and comment on the effect of dataset size, dataset format and task complexity (with and without task 1.2) on pipeline performance."
   ]
  },
  {
   "cell_type": "code",
   "execution_count": 0,
   "metadata": {
    "application/vnd.databricks.v1+cell": {
     "cellMetadata": {
      "byteLimit": 2048000,
      "rowLimit": 10000
     },
     "inputWidgets": {},
     "nuid": "a0e68e8c-4de9-4e04-9de0-f36e24b10f7a",
     "showTitle": false,
     "title": ""
    }
   },
   "outputs": [
    {
     "output_type": "stream",
     "name": "stdout",
     "output_type": "stream",
     "text": [
      "\n    Trips dataset loaded!\n    ---\n      Size: S\n      Format: parquet\n      Tables loaded: ['/FileStore/tables/taxi/parquet/tripdata_2021_07.parquet']\n      Number of trips (dataset rows): 2,898,033\n    \n"
     ]
    }
   ],
   "source": [
    "# CHANGE the value of the following arguments to record the pipeline execution times for increasing dataset sizes\n",
    "SIZE = 'S'\n",
    "DATA_FORMAT = 'parquet'\n",
    "WITH_TASK_12 = True\n",
    "\n",
    "# Load trips dataset\n",
    "trips = init_trips(SIZE, DATA_FORMAT)"
   ]
  },
  {
   "cell_type": "code",
   "execution_count": 0,
   "metadata": {
    "application/vnd.databricks.v1+cell": {
     "cellMetadata": {
      "byteLimit": 2048000,
      "rowLimit": 10000
     },
     "inputWidgets": {},
     "nuid": "95000c24-6b6c-484c-8332-28a7970a52fe",
     "showTitle": false,
     "title": ""
    }
   },
   "outputs": [],
   "source": [
    "def pipeline(trips_df, with_task_12=True, zones_df=None):\n",
    "    if zones_df is None:\n",
    "        zones_df = zone_names\n",
    "\n",
    "    ## Task 1.1\n",
    "    _trips_11 = t11_remove_zeros(trips_df)\n",
    "\n",
    "    ## Task 1.2\n",
    "    if with_task_12:\n",
    "        _trips_12 = t12_remove_outliers(_trips_11)\n",
    "    else:\n",
    "        _trips_12 = _trips_11\n",
    "\n",
    "    ## Task 2.1\n",
    "    _trips_21 = t21_join_zones(_trips_12, zones_df=zones_df)  # Pass zones_df as argument\n",
    "\n",
    "    ## Task 2.2\n",
    "    _trips_22 = t22_calc_profit(_trips_21)\n",
    "\n",
    "    ## Task 3.1\n",
    "    _graph = t31_summarise_trips(_trips_22)\n",
    "\n",
    "    ## Task 3.2\n",
    "    _zones = t32_summarise_zones_pairs(_graph, zones_df=zones_df)  # Corrected to pass zones_df\n",
    "\n",
    "    _top10_trips = t32_top10_trips(_zones)\n",
    "    _top10_profit = t32_top10_profit(_zones)\n",
    "    _top10_passenger = t32_top10_passenger(_zones)\n",
    "    \n",
    "    return [_top10_trips, _top10_profit, _top10_passenger]\n"
   ]
  },
  {
   "cell_type": "code",
   "execution_count": 0,
   "metadata": {
    "application/vnd.databricks.v1+cell": {
     "cellMetadata": {
      "byteLimit": 2048000,
      "rowLimit": 10000
     },
     "inputWidgets": {},
     "nuid": "01b38a0c-923f-4a51-9bbf-e206d13282a1",
     "showTitle": false,
     "title": ""
    }
   },
   "outputs": [
    {
     "output_type": "stream",
     "name": "stdout",
     "output_type": "stream",
     "text": [
      "\n    Trips dataset loaded!\n    ---\n      Size: S\n      Format: parquet\n      Tables loaded: ['/FileStore/tables/taxi/parquet/tripdata_2021_07.parquet']\n      Number of trips (dataset rows): 2,898,033\n    \nExecution Time: 3.82 seconds\n\n\n    Trips dataset loaded!\n    ---\n      Size: S\n      Format: parquet\n      Tables loaded: ['/FileStore/tables/taxi/parquet/tripdata_2021_07.parquet']\n      Number of trips (dataset rows): 2,898,033\n    \nExecution Time: 0.56 seconds\n\n\n    Trips dataset loaded!\n    ---\n      Size: M\n      Format: parquet\n      Tables loaded: ['/FileStore/tables/taxi/parquet/tripdata_2021.parquet']\n      Number of trips (dataset rows): 15,571,166\n    \nExecution Time: 12.37 seconds\n\n\n    Trips dataset loaded!\n    ---\n      Size: M\n      Format: parquet\n      Tables loaded: ['/FileStore/tables/taxi/parquet/tripdata_2021.parquet']\n      Number of trips (dataset rows): 15,571,166\n    \nExecution Time: 0.50 seconds\n\n\n    Trips dataset loaded!\n    ---\n      Size: L\n      Format: parquet\n      Tables loaded: ['/FileStore/tables/taxi/parquet/tripdata_2020_21.parquet']\n      Number of trips (dataset rows): 41,953,716\n    \nExecution Time: 26.53 seconds\n\n\n    Trips dataset loaded!\n    ---\n      Size: L\n      Format: parquet\n      Tables loaded: ['/FileStore/tables/taxi/parquet/tripdata_2020_21.parquet']\n      Number of trips (dataset rows): 41,953,716\n    \nExecution Time: 0.66 seconds\n\n\n    Trips dataset loaded!\n    ---\n      Size: XL\n      Format: parquet\n      Tables loaded: ['/FileStore/tables/taxi/parquet/tripdata_1_6_2019.parquet', '/FileStore/tables/taxi/parquet/tripdata_7_12_2019.parquet']\n      Number of trips (dataset rows): 90,443,069\n    \nExecution Time: 35.49 seconds\n\n\n    Trips dataset loaded!\n    ---\n      Size: XL\n      Format: parquet\n      Tables loaded: ['/FileStore/tables/taxi/parquet/tripdata_1_6_2019.parquet', '/FileStore/tables/taxi/parquet/tripdata_7_12_2019.parquet']\n      Number of trips (dataset rows): 90,443,069\n    \nExecution Time: 0.76 seconds\n\n\n    Trips dataset loaded!\n    ---\n      Size: XXL\n      Format: parquet\n      Tables loaded: ['/FileStore/tables/taxi/parquet/tripdata_1_6_2019.parquet', '/FileStore/tables/taxi/parquet/tripdata_7_12_2019.parquet', '/FileStore/tables/taxi/parquet/tripdata_2020_21.parquet']\n      Number of trips (dataset rows): 132,396,785\n    \nExecution Time: 35.74 seconds\n\n\n    Trips dataset loaded!\n    ---\n      Size: XXL\n      Format: parquet\n      Tables loaded: ['/FileStore/tables/taxi/parquet/tripdata_1_6_2019.parquet', '/FileStore/tables/taxi/parquet/tripdata_7_12_2019.parquet', '/FileStore/tables/taxi/parquet/tripdata_2020_21.parquet']\n      Number of trips (dataset rows): 132,396,785\n    \nExecution Time: 1.59 seconds\n\n\n    Trips dataset loaded!\n    ---\n      Size: S\n      Format: delta\n      Tables loaded: /FileStore/tables/taxi/delta/taxi-S-delta/\n      Number of trips (dataset rows): 2,898,033\n    \nExecution Time: 4.41 seconds\n\n\n    Trips dataset loaded!\n    ---\n      Size: S\n      Format: delta\n      Tables loaded: /FileStore/tables/taxi/delta/taxi-S-delta/\n      Number of trips (dataset rows): 2,898,033\n    \nExecution Time: 0.84 seconds\n\n\n    Trips dataset loaded!\n    ---\n      Size: M\n      Format: delta\n      Tables loaded: /FileStore/tables/taxi/delta/taxi-M-delta/\n      Number of trips (dataset rows): 15,571,166\n    \nExecution Time: 6.01 seconds\n\n\n    Trips dataset loaded!\n    ---\n      Size: M\n      Format: delta\n      Tables loaded: /FileStore/tables/taxi/delta/taxi-M-delta/\n      Number of trips (dataset rows): 15,571,166\n    \nExecution Time: 0.57 seconds\n\n\n    Trips dataset loaded!\n    ---\n      Size: L\n      Format: delta\n      Tables loaded: /FileStore/tables/taxi/delta/taxi-L-delta/\n      Number of trips (dataset rows): 41,953,716\n    \nExecution Time: 7.87 seconds\n\n\n    Trips dataset loaded!\n    ---\n      Size: L\n      Format: delta\n      Tables loaded: /FileStore/tables/taxi/delta/taxi-L-delta/\n      Number of trips (dataset rows): 41,953,716\n    \nExecution Time: 0.48 seconds\n\n\n    Trips dataset loaded!\n    ---\n      Size: XL\n      Format: delta\n      Tables loaded: /FileStore/tables/taxi/delta/taxi-XL-delta/\n      Number of trips (dataset rows): 90,443,069\n    \nExecution Time: 17.86 seconds\n\n\n    Trips dataset loaded!\n    ---\n      Size: XL\n      Format: delta\n      Tables loaded: /FileStore/tables/taxi/delta/taxi-XL-delta/\n      Number of trips (dataset rows): 90,443,069\n    \nExecution Time: 0.57 seconds\n\n\n    Trips dataset loaded!\n    ---\n      Size: XXL\n      Format: delta\n      Tables loaded: /FileStore/tables/taxi/delta/taxi-XXL-delta/\n      Number of trips (dataset rows): 132,396,785\n    \nExecution Time: 18.56 seconds\n\n\n    Trips dataset loaded!\n    ---\n      Size: XXL\n      Format: delta\n      Tables loaded: /FileStore/tables/taxi/delta/taxi-XXL-delta/\n      Number of trips (dataset rows): 132,396,785\n    \nExecution Time: 0.59 seconds\n\n{'size': 'S', 'format': 'parquet', 'include_task_12': True, 'row_count': 2898033, 'execution_time': 3.8220136165618896, 'sec_per_1M_records': 1.3188302605808457}\n{'size': 'S', 'format': 'parquet', 'include_task_12': False, 'row_count': 2898033, 'execution_time': 0.5565204620361328, 'sec_per_1M_records': 0.19203385953028584}\n{'size': 'M', 'format': 'parquet', 'include_task_12': True, 'row_count': 15571166, 'execution_time': 12.367341041564941, 'sec_per_1M_records': 0.7942463038134037}\n{'size': 'M', 'format': 'parquet', 'include_task_12': False, 'row_count': 15571166, 'execution_time': 0.5040490627288818, 'sec_per_1M_records': 0.032370669141211506}\n{'size': 'L', 'format': 'parquet', 'include_task_12': True, 'row_count': 41953716, 'execution_time': 26.531667709350586, 'sec_per_1M_records': 0.632403282449416}\n{'size': 'L', 'format': 'parquet', 'include_task_12': False, 'row_count': 41953716, 'execution_time': 0.6595709323883057, 'sec_per_1M_records': 0.015721394795834193}\n{'size': 'XL', 'format': 'parquet', 'include_task_12': True, 'row_count': 90443069, 'execution_time': 35.49300169944763, 'sec_per_1M_records': 0.3924347337157216}\n{'size': 'XL', 'format': 'parquet', 'include_task_12': False, 'row_count': 90443069, 'execution_time': 0.757047176361084, 'sec_per_1M_records': 0.008370427769994006}\n{'size': 'XXL', 'format': 'parquet', 'include_task_12': True, 'row_count': 132396785, 'execution_time': 35.735925912857056, 'sec_per_1M_records': 0.26991536020196455}\n{'size': 'XXL', 'format': 'parquet', 'include_task_12': False, 'row_count': 132396785, 'execution_time': 1.5889244079589844, 'sec_per_1M_records': 0.012001231056773655}\n{'size': 'S', 'format': 'delta', 'include_task_12': True, 'row_count': 2898033, 'execution_time': 4.412905693054199, 'sec_per_1M_records': 1.5227244455305373}\n{'size': 'S', 'format': 'delta', 'include_task_12': False, 'row_count': 2898033, 'execution_time': 0.8413388729095459, 'sec_per_1M_records': 0.29031376554702654}\n{'size': 'M', 'format': 'delta', 'include_task_12': True, 'row_count': 15571166, 'execution_time': 6.013702869415283, 'sec_per_1M_records': 0.38620761408717136}\n{'size': 'M', 'format': 'delta', 'include_task_12': False, 'row_count': 15571166, 'execution_time': 0.5690474510192871, 'sec_per_1M_records': 0.03654494795182885}\n{'size': 'L', 'format': 'delta', 'include_task_12': True, 'row_count': 41953716, 'execution_time': 7.869533061981201, 'sec_per_1M_records': 0.18757654416074135}\n{'size': 'L', 'format': 'delta', 'include_task_12': False, 'row_count': 41953716, 'execution_time': 0.4831240177154541, 'sec_per_1M_records': 0.01151564304138051}\n{'size': 'XL', 'format': 'delta', 'include_task_12': True, 'row_count': 90443069, 'execution_time': 17.863121271133423, 'sec_per_1M_records': 0.1975068014458181}\n{'size': 'XL', 'format': 'delta', 'include_task_12': False, 'row_count': 90443069, 'execution_time': 0.5740268230438232, 'sec_per_1M_records': 0.006346830435882525}\n{'size': 'XXL', 'format': 'delta', 'include_task_12': True, 'row_count': 132396785, 'execution_time': 18.56387972831726, 'sec_per_1M_records': 0.14021397670885483}\n{'size': 'XXL', 'format': 'delta', 'include_task_12': False, 'row_count': 132396785, 'execution_time': 0.5869739055633545, 'sec_per_1M_records': 0.0044334453103476385}\n"
     ]
    }
   ],
   "source": [
    "import time\n",
    "\n",
    "dataset_sizes = ['S', 'M', 'L', 'XL', 'XXL']\n",
    "data_formats = ['parquet', 'delta']\n",
    "execution_results = []\n",
    "\n",
    "for data_format in data_formats:\n",
    "    for size in dataset_sizes:\n",
    "        for include_task_12 in [True, False]:\n",
    "            start_time = time.time()\n",
    "            \n",
    "            trips_df = init_trips(size, data_format)\n",
    "            row_count = trips_df.count()\n",
    "            \n",
    "            results = pipeline(trips_df, include_task_12, zone_names)\n",
    "            \n",
    "            execution_time = time.time() - start_time\n",
    "            \n",
    "            sec_per_1M_records = execution_time / (row_count / 1_000_000)\n",
    "            \n",
    "            print(f\"Execution Time: {execution_time:.2f} seconds\\n\")\n",
    "\n",
    "            execution_results.append({\n",
    "                'size': size,\n",
    "                'format': data_format,\n",
    "                'include_task_12': include_task_12,\n",
    "                'row_count': row_count,\n",
    "                'execution_time': execution_time,\n",
    "                'sec_per_1M_records': sec_per_1M_records\n",
    "            })\n",
    "\n",
    "# Print execution_results for analysis\n",
    "for result in execution_results:\n",
    "    print(result)"
   ]
  },
  {
   "cell_type": "code",
   "execution_count": 0,
   "metadata": {
    "application/vnd.databricks.v1+cell": {
     "cellMetadata": {
      "byteLimit": 2048000,
      "rowLimit": 10000
     },
     "inputWidgets": {},
     "nuid": "32a9f0b9-d4d7-46a3-bf27-96330c91d185",
     "showTitle": false,
     "title": ""
    }
   },
   "outputs": [
    {
     "output_type": "stream",
     "name": "stdout",
     "output_type": "stream",
     "text": [
      "   size   format  include_task_12  row_count  execution_time  \\\n0     S  parquet             True    2898033        3.822014   \n1     S  parquet            False    2898033        0.556520   \n2     M  parquet             True   15571166       12.367341   \n3     M  parquet            False   15571166        0.504049   \n4     L  parquet             True   41953716       26.531668   \n5     L  parquet            False   41953716        0.659571   \n6    XL  parquet             True   90443069       35.493002   \n7    XL  parquet            False   90443069        0.757047   \n8   XXL  parquet             True  132396785       35.735926   \n9   XXL  parquet            False  132396785        1.588924   \n10    S    delta             True    2898033        4.412906   \n11    S    delta            False    2898033        0.841339   \n12    M    delta             True   15571166        6.013703   \n13    M    delta            False   15571166        0.569047   \n14    L    delta             True   41953716        7.869533   \n15    L    delta            False   41953716        0.483124   \n16   XL    delta             True   90443069       17.863121   \n17   XL    delta            False   90443069        0.574027   \n18  XXL    delta             True  132396785       18.563880   \n19  XXL    delta            False  132396785        0.586974   \n\n    sec_per_1M_records  \n0             1.318830  \n1             0.192034  \n2             0.794246  \n3             0.032371  \n4             0.632403  \n5             0.015721  \n6             0.392435  \n7             0.008370  \n8             0.269915  \n9             0.012001  \n10            1.522724  \n11            0.290314  \n12            0.386208  \n13            0.036545  \n14            0.187577  \n15            0.011516  \n16            0.197507  \n17            0.006347  \n18            0.140214  \n19            0.004433  \n"
     ]
    }
   ],
   "source": [
    "pd.set_option('display.max_columns', None)\n",
    "pd.set_option('display.width', None)\n",
    "df = pd.DataFrame(execution_results)\n",
    "print(df)"
   ]
  },
  {
   "cell_type": "code",
   "execution_count": 0,
   "metadata": {
    "application/vnd.databricks.v1+cell": {
     "cellMetadata": {
      "byteLimit": 2048000,
      "rowLimit": 10000
     },
     "inputWidgets": {},
     "nuid": "68681494-9d89-4706-908d-c5545444e8ca",
     "showTitle": false,
     "title": ""
    }
   },
   "outputs": [
    {
     "output_type": "execute_result",
     "data": {
      "text/plain": [
       "[DataFrame[PULocationID: bigint, zone_name: string, average_profitability: double, total_trips: bigint, total_passengers: bigint],\n",
       " DataFrame[PULocationID: bigint, zone_name: string, average_profitability: double, total_trips: bigint, total_passengers: bigint],\n",
       " DataFrame[PULocationID: bigint, zone_name: string, average_profitability: double, total_trips: bigint, total_passengers: bigint]]"
      ]
     },
     "execution_count": 101,
     "metadata": {},
     "output_type": "execute_result"
    }
   ],
   "source": [
    "# running and record the resulting execution time shown by databricks (on the cell footer)\n",
    "\n",
    "# IMPORTANT: this function calls all task functions in order of occurrence. For this code to run without errors, it is loaded into memory all of the previous task-specific functions.\n",
    "pipeline(trips, with_task_12 = WITH_TASK_12)"
   ]
  },
  {
   "cell_type": "markdown",
   "metadata": {
    "application/vnd.databricks.v1+cell": {
     "cellMetadata": {
      "byteLimit": 2048000,
      "rowLimit": 10000
     },
     "inputWidgets": {},
     "nuid": "a4d9677b-1d3a-4a92-a46f-29766a85ac86",
     "showTitle": false,
     "title": ""
    }
   },
   "source": [
    "_Table 1. Pipeline performance for `parquet` format._\n",
    "\n",
    "| metric                      | S    | M    | L    | XL   | XXL  |\n",
    "|-----------------------------|------|------|------|------|------|\n",
    "| rows (M)                    | 2.90 | 15.57 | 41.95 | 90.44 | 132.40 |\n",
    "| execution time (w/o 1.2)    | 0.56 | 0.50  | 0.66  | 0.76  | 1.59  |\n",
    "| execution time              | 3.82 | 12.37 | 26.53 | 35.49 | 35.74 |\n",
    "| sec / 1M records (w/o 1.2)  | 0.19 | 0.03  | 0.02  | 0.01  | 0.01  |\n",
    "| sec / 1M records            | 1.32 | 0.79  | 0.63  | 0.39  | 0.27  |"
   ]
  },
  {
   "cell_type": "markdown",
   "metadata": {
    "application/vnd.databricks.v1+cell": {
     "cellMetadata": {
      "byteLimit": 2048000,
      "rowLimit": 10000
     },
     "inputWidgets": {},
     "nuid": "cf8d446a-e5ad-4fae-b7d1-0e05983a1390",
     "showTitle": false,
     "title": ""
    }
   },
   "source": [
    "_Table 2. Pipeline performance for `delta` format._\n",
    "\n",
    "| metric                      | S    | M    | L    | XL   | XXL  |\n",
    "|-----------------------------|------|------|------|------|------|\n",
    "| rows (M)                    | 2.90 | 15.57 | 41.95 | 90.44 | 132.40 |\n",
    "| execution time (w/o 1.2)    | 0.84 | 0.57  | 0.48  | 0.57  | 0.59  |\n",
    "| execution time              | 4.41 | 6.01  | 7.87  | 17.86 | 18.56 |\n",
    "| sec / 1M records (w/o 1.2)  | 0.29 | 0.04  | 0.01  | 0.01  | 0.00  |\n",
    "| sec / 1M records            | 1.52 | 0.39  | 0.19  | 0.20  | 0.14  |\n"
   ]
  },
  {
   "cell_type": "code",
   "execution_count": 0,
   "metadata": {
    "application/vnd.databricks.v1+cell": {
     "cellMetadata": {
      "byteLimit": 2048000,
      "rowLimit": 10000
     },
     "inputWidgets": {},
     "nuid": "71117da3-9588-4b72-87e7-c2d6ccce6720",
     "showTitle": false,
     "title": ""
    }
   },
   "outputs": [
    {
     "output_type": "display_data",
     "data": {
      "image/png": "[encoded data removed]",
      "text/plain": [
       "<Figure size 1000x600 with 1 Axes>"
      ]
     },
     "metadata": {},
     "output_type": "display_data"
    }
   ],
   "source": [
    "import matplotlib.pyplot as plt\n",
    "\n",
    "# Dataset sizes\n",
    "sizes = ['S', 'M', 'L', 'XL', 'XXL']\n",
    "\n",
    "# Execution times for parquet (with and without task 1.2)\n",
    "execution_time_parquet_with_12 = [3.82, 12.37, 26.53, 35.49, 35.74]\n",
    "execution_time_parquet_without_12 = [0.56, 0.50, 0.66, 0.76, 1.59]\n",
    "\n",
    "# Execution times for delta (with and without task 1.2)\n",
    "execution_time_delta_with_12 = [4.41, 6.01, 7.87, 17.86, 18.56]\n",
    "execution_time_delta_without_12 = [0.84, 0.57, 0.48, 0.57, 0.59]\n",
    "\n",
    "# Plotting\n",
    "plt.figure(figsize=(10, 6))\n",
    "\n",
    "plt.plot(sizes, execution_time_parquet_with_12, label='Parquet with 1.2', marker='o')\n",
    "plt.plot(sizes, execution_time_parquet_without_12, label='Parquet without 1.2', marker='o', linestyle='--')\n",
    "plt.plot(sizes, execution_time_delta_with_12, label='Delta with 1.2', marker='s')\n",
    "plt.plot(sizes, execution_time_delta_without_12, label='Delta without 1.2', marker='s', linestyle='--')\n",
    "\n",
    "plt.title('Execution Time Across Dataset Sizes')\n",
    "plt.xlabel('Dataset Size')\n",
    "plt.ylabel('Execution Time (seconds)')\n",
    "plt.legend()\n",
    "plt.grid(True)\n",
    "\n",
    "plt.show()"
   ]
  }
 ],
 "metadata": {
  "application/vnd.databricks.v1+notebook": {
   "dashboards": [],
   "language": "python",
   "notebookMetadata": {
    "pythonIndentUnit": 4
   },
   "notebookName": "Task Engineering",
   "widgets": {}
  },
  "language_info": {
   "name": "plaintext"
  }
 },
 "nbformat": 4,
 "nbformat_minor": 0
}
